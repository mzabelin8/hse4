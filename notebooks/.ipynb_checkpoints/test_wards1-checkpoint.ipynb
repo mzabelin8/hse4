{
 "cells": [
  {
   "cell_type": "code",
   "execution_count": 1,
   "id": "1f07e423-553f-485f-a8f4-7cac8f8878d6",
   "metadata": {},
   "outputs": [],
   "source": [
    "from hse3_files.parser_main import *\n",
    "from hse3_files.parser_fucn import *\n",
    "from hse3_files.converter import *"
   ]
  },
  {
   "cell_type": "code",
   "execution_count": 2,
   "id": "9b37cd2b-fa4f-4da4-922a-84c253e9ab3d",
   "metadata": {},
   "outputs": [],
   "source": [
    "import pandas as pd\n",
    "import xml.etree.ElementTree as ET\n",
    "from io import StringIO\n",
    "import json"
   ]
  },
  {
   "cell_type": "code",
   "execution_count": 111,
   "id": "a88753b1-dcf1-41ec-b053-de24c3337565",
   "metadata": {},
   "outputs": [],
   "source": [
    "path = '/Users/maximzabelin/My/edc/hse4/data/med_records/DocsNew1_json/file1_19.json'\n",
    "\n",
    "with open(path, 'r', encoding='utf-8') as file:\n",
    "    data = json.load(file)\n"
   ]
  },
  {
   "cell_type": "code",
   "execution_count": null,
   "id": "c93226c6-b90b-49d4-9466-499b85b63f02",
   "metadata": {},
   "outputs": [],
   "source": [
    "ward_list = get_ward_list(data)\n",
    "ward_list"
   ]
  },
  {
   "cell_type": "code",
   "execution_count": 31,
   "id": "cadf62b1-6bb3-4d32-8c19-6000b5a3c079",
   "metadata": {},
   "outputs": [],
   "source": [
    "def get_ward_name(data, i):\n",
    "    short_path_to_section = [i, 'section', 'title']\n",
    "\n",
    "\n",
    "    section_fields = find_section_by_optimized_path(data, short_path_to_section)\n",
    "    return section_fields['text']"
   ]
  },
  {
   "cell_type": "code",
   "execution_count": 33,
   "id": "80a4ca1e-ea1b-4f20-a18f-11128c0a4087",
   "metadata": {},
   "outputs": [
    {
     "data": {
      "text/plain": [
       "'Сведения о пребывании пациента в Отделение анестезиологии-реанимации с палатами реанимации и интенсивной терапии №2'"
      ]
     },
     "execution_count": 33,
     "metadata": {},
     "output_type": "execute_result"
    }
   ],
   "source": [
    "get_ward_name(ward_list, 2)"
   ]
  },
  {
   "cell_type": "code",
   "execution_count": 70,
   "id": "8a10a102-5ef3-437d-b4b5-36aed6c921ed",
   "metadata": {},
   "outputs": [],
   "source": [
    "def get_research_list(data, i):\n",
    "    short_path_to_section = [i, 'section']\n",
    "\n",
    "    section_fields = find_section_by_optimized_path(data, short_path_to_section)\n",
    "    if '{urn:hl7-org:v3}component' in section_fields.keys():\n",
    "        short_path_to_section = ['component', 'section', 'component']\n",
    "        section_fields = find_section_by_optimized_path(section_fields, short_path_to_section)\n",
    "        return section_fields\n",
    "    return None"
   ]
  },
  {
   "cell_type": "code",
   "execution_count": 71,
   "id": "f0b07095-286c-4aee-b496-85ade0afb1f9",
   "metadata": {},
   "outputs": [],
   "source": [
    "get_research_list(ward_list, 0)"
   ]
  },
  {
   "cell_type": "code",
   "execution_count": 73,
   "id": "d65dc59d-15d8-42b3-84b3-6a969f1c3d3d",
   "metadata": {
    "scrolled": true
   },
   "outputs": [],
   "source": [
    "res_list = get_research_list(ward_list, 2)\n"
   ]
  },
  {
   "cell_type": "code",
   "execution_count": 74,
   "id": "d862bd24-893a-497f-b714-445672cc49f6",
   "metadata": {},
   "outputs": [],
   "source": [
    "def get_research_name(data, i):\n",
    "    return get_ward_name(data, i)"
   ]
  },
  {
   "cell_type": "code",
   "execution_count": 75,
   "id": "e6aeb23d-52d1-4b6d-9c5c-7ac14df8c9c3",
   "metadata": {},
   "outputs": [
    {
     "data": {
      "text/plain": [
       "'Рентгеноскопия грудной клетки (05.04.2023 21:00)'"
      ]
     },
     "execution_count": 75,
     "metadata": {},
     "output_type": "execute_result"
    }
   ],
   "source": [
    "get_research_name(res_list, 0)"
   ]
  },
  {
   "cell_type": "code",
   "execution_count": null,
   "id": "97f66672-59a8-42c3-9893-0cc3e3a42740",
   "metadata": {},
   "outputs": [],
   "source": []
  },
  {
   "cell_type": "code",
   "execution_count": 114,
   "id": "330df5f3-468b-4134-a4bf-46cd97601825",
   "metadata": {},
   "outputs": [],
   "source": [
    "def get_research_table(data, i, type='table'):\n",
    "    short_path_to_section = [i, 'section', 'text']\n",
    "\n",
    "    section_fields = find_section_by_optimized_path(data, short_path_to_section)\n",
    "    if type != 'table':\n",
    "        return section_fields\n",
    "        \n",
    "    table = parse_table_wtheader(section_fields)\n",
    "    \n",
    "    return table"
   ]
  },
  {
   "cell_type": "code",
   "execution_count": 109,
   "id": "375747e4-d78e-4fc7-8d66-3c22c2f4e3d3",
   "metadata": {},
   "outputs": [
    {
     "data": {
      "text/html": [
       "<div>\n",
       "<style scoped>\n",
       "    .dataframe tbody tr th:only-of-type {\n",
       "        vertical-align: middle;\n",
       "    }\n",
       "\n",
       "    .dataframe tbody tr th {\n",
       "        vertical-align: top;\n",
       "    }\n",
       "\n",
       "    .dataframe thead th {\n",
       "        text-align: right;\n",
       "    }\n",
       "</style>\n",
       "<table border=\"1\" class=\"dataframe\">\n",
       "  <thead>\n",
       "    <tr style=\"text-align: right;\">\n",
       "      <th></th>\n",
       "      <th>Column 1</th>\n",
       "      <th>Column 2</th>\n",
       "    </tr>\n",
       "  </thead>\n",
       "  <tbody>\n",
       "    <tr>\n",
       "      <th>0</th>\n",
       "      <td>Эффективная доза</td>\n",
       "      <td>None</td>\n",
       "    </tr>\n",
       "    <tr>\n",
       "      <th>1</th>\n",
       "      <td>Протокол</td>\n",
       "      <td>С ПАЦИЕНТОМ (ЕГО ЗАКОННЫМ ПРЕДСТАВИТЕЛЕМ) ПРОВ...</td>\n",
       "    </tr>\n",
       "    <tr>\n",
       "      <th>2</th>\n",
       "      <td>Заключение</td>\n",
       "      <td>Р-признаков очагово- инфильтративных изменений...</td>\n",
       "    </tr>\n",
       "    <tr>\n",
       "      <th>3</th>\n",
       "      <td>Выявленная патология</td>\n",
       "      <td>None</td>\n",
       "    </tr>\n",
       "    <tr>\n",
       "      <th>4</th>\n",
       "      <td>Диагноз</td>\n",
       "      <td>I21.1 Острый трансмуральный инфаркт нижней сте...</td>\n",
       "    </tr>\n",
       "    <tr>\n",
       "      <th>5</th>\n",
       "      <td>Услуги</td>\n",
       "      <td>Прицельная рентгенография органов грудной клет...</td>\n",
       "    </tr>\n",
       "    <tr>\n",
       "      <th>6</th>\n",
       "      <td>Врач</td>\n",
       "      <td>Ц В Н (Врач-рентгенолог)</td>\n",
       "    </tr>\n",
       "  </tbody>\n",
       "</table>\n",
       "</div>"
      ],
      "text/plain": [
       "               Column 1                                           Column 2\n",
       "0      Эффективная доза                                               None\n",
       "1              Протокол  С ПАЦИЕНТОМ (ЕГО ЗАКОННЫМ ПРЕДСТАВИТЕЛЕМ) ПРОВ...\n",
       "2            Заключение  Р-признаков очагово- инфильтративных изменений...\n",
       "3  Выявленная патология                                               None\n",
       "4               Диагноз  I21.1 Острый трансмуральный инфаркт нижней сте...\n",
       "5                Услуги  Прицельная рентгенография органов грудной клет...\n",
       "6                  Врач                           Ц В Н (Врач-рентгенолог)"
      ]
     },
     "execution_count": 109,
     "metadata": {},
     "output_type": "execute_result"
    }
   ],
   "source": [
    "get_research_table(res_list, 0)"
   ]
  },
  {
   "cell_type": "code",
   "execution_count": null,
   "id": "1f82f70a-4d02-4998-aea3-aea064becc9b",
   "metadata": {},
   "outputs": [],
   "source": []
  },
  {
   "cell_type": "code",
   "execution_count": 115,
   "id": "25473657-7815-4822-9f5e-5695e6809c88",
   "metadata": {},
   "outputs": [],
   "source": [
    "ы"
   ]
  },
  {
   "cell_type": "code",
   "execution_count": 116,
   "id": "d7d8436a-3cc2-4d65-8020-65612e94a013",
   "metadata": {},
   "outputs": [
    {
     "data": {
      "text/plain": [
       "{'Сведения о пребывании пациента в Приемное отделение': {},\n",
       " 'Сведения о пребывании пациента в Кардиологическое отделение с ПРиИТ для лечения больных с ОКС (ПСО) №2': {'Прием (осмотр, консультация) врача по медицинской профилактике первичный (07.04.2023 09:47)': {'{urn:hl7-org:v3}table': {'{urn:hl7-org:v3}col': [{'width': '12%'},\n",
       "     {'width': '88%'}],\n",
       "    '{urn:hl7-org:v3}tbody': {'{urn:hl7-org:v3}tr': [{'{urn:hl7-org:v3}td': [{'{urn:hl7-org:v3}content': {'text': 'Эффективная доза'}},\n",
       "        {'{urn:hl7-org:v3}content': {}}]},\n",
       "      {'{urn:hl7-org:v3}td': [{'{urn:hl7-org:v3}content': {'text': 'Протокол'}},\n",
       "        {'{urn:hl7-org:v3}content': {'text': 'Бюдже!!!!!!!!!!!!!69/1\\n\\nПРОТОКОЛ ОБСЛЕДОВАНИЯ № !!!!!!!!!!!!!\\n\\n\\nФ.И.О.: Д М К\\nВозраст (дата рождения): 59 ( 21.02.1964)\\nПредварительный диагноз: \\n\\n ЗАКЛЮЧЕНИЕ  : \\nПО 05.04.2023 15:17\\nСинусовый ритм с ЧСС 80 уд.мин. ЭОС горизонтальная.\\nПризнаки течения Q ИМ нижней ст ( ST ближе к изолинии, инверсия з Т).\\nНевыраженные изменения высоко-боковой стенки.'}}]},\n",
       "      {'{urn:hl7-org:v3}td': [{'{urn:hl7-org:v3}content': {'text': 'Заключение'}},\n",
       "        {'{urn:hl7-org:v3}content': {'text': 'ЗАКЛЮЧЕНИЕ  : \\nПО 05.04.2023 15:17\\nСинусовый ритм с ЧСС 80 уд.мин. ЭОС горизонтальная.\\nПризнаки течения Q ИМ нижней ст ( ST ближе к изолинии, инверсия з Т).\\nНевыраженные изменения высоко-боковой стенки.'}}]},\n",
       "      {'{urn:hl7-org:v3}td': [{'{urn:hl7-org:v3}content': {'text': 'Выявленная патология'}},\n",
       "        {'{urn:hl7-org:v3}content': {}}]},\n",
       "      {'{urn:hl7-org:v3}td': [{'{urn:hl7-org:v3}content': {'text': 'Диагноз'}},\n",
       "        {'{urn:hl7-org:v3}content': {'text': 'I21.1 Острый трансмуральный инфаркт нижней стенки миокарда'}}]},\n",
       "      {'{urn:hl7-org:v3}td': [{'{urn:hl7-org:v3}content': {'text': 'Услуги'}},\n",
       "        {'{urn:hl7-org:v3}content': {'text': 'Регистрация электрокардиограммы (A05.10.006)'}}]},\n",
       "      {'{urn:hl7-org:v3}td': [{'{urn:hl7-org:v3}content': {'text': 'Врач'}},\n",
       "        {'{urn:hl7-org:v3}content': {'text': 'С К П (Врач функциональной диагностики)'}}]}]},\n",
       "    'width': '100%'}},\n",
       "  'Ультразвуковое исследование экстракраниального отдела брахиоцефальных артерий с функциональными пробами (07.04.2023 12:43)': {'{urn:hl7-org:v3}table': {'{urn:hl7-org:v3}col': [{'width': '12%'},\n",
       "     {'width': '88%'}],\n",
       "    '{urn:hl7-org:v3}tbody': {'{urn:hl7-org:v3}tr': [{'{urn:hl7-org:v3}td': [{'{urn:hl7-org:v3}content': {'text': 'Эффективная доза'}},\n",
       "        {'{urn:hl7-org:v3}content': {}}]},\n",
       "      {'{urn:hl7-org:v3}td': [{'{urn:hl7-org:v3}content': {'text': 'Протокол'}},\n",
       "        {'{urn:hl7-org:v3}content': {'text': 'Бюдже!!!!!!!!!!!!!69/1\\n\\nПРОТОКОЛ ОБСЛЕДОВАНИЯ № !!!!!!!!!!!!!\\n\\n\\nФ.И.О.: Д М К\\nВозраст (дата рождения): 59 ( 21.02.1964)\\nПредварительный диагноз: \\n\\n ЗАКЛЮЧЕНИЕ  : \\nПО 05.04.2023 15:17\\nСинусовый ритм с ЧСС 80 уд.мин. ЭОС горизонтальная.\\nПризнаки течения Q ИМ нижней ст ( ST ближе к изолинии, инверсия з Т).\\nНевыраженные изменения высоко-боковой стенки.'}}]},\n",
       "      {'{urn:hl7-org:v3}td': [{'{urn:hl7-org:v3}content': {'text': 'Заключение'}},\n",
       "        {'{urn:hl7-org:v3}content': {'text': 'ЗАКЛЮЧЕНИЕ  : \\nПО 05.04.2023 15:17\\nСинусовый ритм с ЧСС 80 уд.мин. ЭОС горизонтальная.\\nПризнаки течения Q ИМ нижней ст ( ST ближе к изолинии, инверсия з Т).\\nНевыраженные изменения высоко-боковой стенки.'}}]},\n",
       "      {'{urn:hl7-org:v3}td': [{'{urn:hl7-org:v3}content': {'text': 'Выявленная патология'}},\n",
       "        {'{urn:hl7-org:v3}content': {}}]},\n",
       "      {'{urn:hl7-org:v3}td': [{'{urn:hl7-org:v3}content': {'text': 'Диагноз'}},\n",
       "        {'{urn:hl7-org:v3}content': {'text': 'I21.1 Острый трансмуральный инфаркт нижней стенки миокарда'}}]},\n",
       "      {'{urn:hl7-org:v3}td': [{'{urn:hl7-org:v3}content': {'text': 'Услуги'}},\n",
       "        {'{urn:hl7-org:v3}content': {'text': 'Регистрация электрокардиограммы (A05.10.006)'}}]},\n",
       "      {'{urn:hl7-org:v3}td': [{'{urn:hl7-org:v3}content': {'text': 'Врач'}},\n",
       "        {'{urn:hl7-org:v3}content': {'text': 'С К П (Врач функциональной диагностики)'}}]}]},\n",
       "    'width': '100%'}},\n",
       "  'Электрокардиографическое исследование в 12 отведениях (10.04.2023 16:47)': {'{urn:hl7-org:v3}table': {'{urn:hl7-org:v3}col': [{'width': '12%'},\n",
       "     {'width': '88%'}],\n",
       "    '{urn:hl7-org:v3}tbody': {'{urn:hl7-org:v3}tr': [{'{urn:hl7-org:v3}td': [{'{urn:hl7-org:v3}content': {'text': 'Эффективная доза'}},\n",
       "        {'{urn:hl7-org:v3}content': {}}]},\n",
       "      {'{urn:hl7-org:v3}td': [{'{urn:hl7-org:v3}content': {'text': 'Протокол'}},\n",
       "        {'{urn:hl7-org:v3}content': {'text': 'Бюдже!!!!!!!!!!!!!69/1\\n\\nПРОТОКОЛ ОБСЛЕДОВАНИЯ № !!!!!!!!!!!!!\\n\\n\\nФ.И.О.: Д М К\\nВозраст (дата рождения): 59 ( 21.02.1964)\\nПредварительный диагноз: \\n\\n ЗАКЛЮЧЕНИЕ  : \\nПО 05.04.2023 15:17\\nСинусовый ритм с ЧСС 80 уд.мин. ЭОС горизонтальная.\\nПризнаки течения Q ИМ нижней ст ( ST ближе к изолинии, инверсия з Т).\\nНевыраженные изменения высоко-боковой стенки.'}}]},\n",
       "      {'{urn:hl7-org:v3}td': [{'{urn:hl7-org:v3}content': {'text': 'Заключение'}},\n",
       "        {'{urn:hl7-org:v3}content': {'text': 'ЗАКЛЮЧЕНИЕ  : \\nПО 05.04.2023 15:17\\nСинусовый ритм с ЧСС 80 уд.мин. ЭОС горизонтальная.\\nПризнаки течения Q ИМ нижней ст ( ST ближе к изолинии, инверсия з Т).\\nНевыраженные изменения высоко-боковой стенки.'}}]},\n",
       "      {'{urn:hl7-org:v3}td': [{'{urn:hl7-org:v3}content': {'text': 'Выявленная патология'}},\n",
       "        {'{urn:hl7-org:v3}content': {}}]},\n",
       "      {'{urn:hl7-org:v3}td': [{'{urn:hl7-org:v3}content': {'text': 'Диагноз'}},\n",
       "        {'{urn:hl7-org:v3}content': {'text': 'I21.1 Острый трансмуральный инфаркт нижней стенки миокарда'}}]},\n",
       "      {'{urn:hl7-org:v3}td': [{'{urn:hl7-org:v3}content': {'text': 'Услуги'}},\n",
       "        {'{urn:hl7-org:v3}content': {'text': 'Регистрация электрокардиограммы (A05.10.006)'}}]},\n",
       "      {'{urn:hl7-org:v3}td': [{'{urn:hl7-org:v3}content': {'text': 'Врач'}},\n",
       "        {'{urn:hl7-org:v3}content': {'text': 'С К П (Врач функциональной диагностики)'}}]}]},\n",
       "    'width': '100%'}},\n",
       "  'Электрокардиографическое исследование в 12 отведениях (10.04.2023 17:00)': {'{urn:hl7-org:v3}table': {'{urn:hl7-org:v3}col': [{'width': '12%'},\n",
       "     {'width': '88%'}],\n",
       "    '{urn:hl7-org:v3}tbody': {'{urn:hl7-org:v3}tr': [{'{urn:hl7-org:v3}td': [{'{urn:hl7-org:v3}content': {'text': 'Эффективная доза'}},\n",
       "        {'{urn:hl7-org:v3}content': {}}]},\n",
       "      {'{urn:hl7-org:v3}td': [{'{urn:hl7-org:v3}content': {'text': 'Протокол'}},\n",
       "        {'{urn:hl7-org:v3}content': {'text': 'Бюдже!!!!!!!!!!!!!69/1\\n\\nПРОТОКОЛ ОБСЛЕДОВАНИЯ № !!!!!!!!!!!!!\\n\\n\\nФ.И.О.: Д М К\\nВозраст (дата рождения): 59 ( 21.02.1964)\\nПредварительный диагноз: \\n\\n ЗАКЛЮЧЕНИЕ  : \\nПО 05.04.2023 15:17\\nСинусовый ритм с ЧСС 80 уд.мин. ЭОС горизонтальная.\\nПризнаки течения Q ИМ нижней ст ( ST ближе к изолинии, инверсия з Т).\\nНевыраженные изменения высоко-боковой стенки.'}}]},\n",
       "      {'{urn:hl7-org:v3}td': [{'{urn:hl7-org:v3}content': {'text': 'Заключение'}},\n",
       "        {'{urn:hl7-org:v3}content': {'text': 'ЗАКЛЮЧЕНИЕ  : \\nПО 05.04.2023 15:17\\nСинусовый ритм с ЧСС 80 уд.мин. ЭОС горизонтальная.\\nПризнаки течения Q ИМ нижней ст ( ST ближе к изолинии, инверсия з Т).\\nНевыраженные изменения высоко-боковой стенки.'}}]},\n",
       "      {'{urn:hl7-org:v3}td': [{'{urn:hl7-org:v3}content': {'text': 'Выявленная патология'}},\n",
       "        {'{urn:hl7-org:v3}content': {}}]},\n",
       "      {'{urn:hl7-org:v3}td': [{'{urn:hl7-org:v3}content': {'text': 'Диагноз'}},\n",
       "        {'{urn:hl7-org:v3}content': {'text': 'I21.1 Острый трансмуральный инфаркт нижней стенки миокарда'}}]},\n",
       "      {'{urn:hl7-org:v3}td': [{'{urn:hl7-org:v3}content': {'text': 'Услуги'}},\n",
       "        {'{urn:hl7-org:v3}content': {'text': 'Регистрация электрокардиограммы (A05.10.006)'}}]},\n",
       "      {'{urn:hl7-org:v3}td': [{'{urn:hl7-org:v3}content': {'text': 'Врач'}},\n",
       "        {'{urn:hl7-org:v3}content': {'text': 'С К П (Врач функциональной диагностики)'}}]}]},\n",
       "    'width': '100%'}},\n",
       "  'Электрокардиографическое исследование в 12 отведениях (10.04.2023 17:02)': {'{urn:hl7-org:v3}table': {'{urn:hl7-org:v3}col': [{'width': '12%'},\n",
       "     {'width': '88%'}],\n",
       "    '{urn:hl7-org:v3}tbody': {'{urn:hl7-org:v3}tr': [{'{urn:hl7-org:v3}td': [{'{urn:hl7-org:v3}content': {'text': 'Эффективная доза'}},\n",
       "        {'{urn:hl7-org:v3}content': {}}]},\n",
       "      {'{urn:hl7-org:v3}td': [{'{urn:hl7-org:v3}content': {'text': 'Протокол'}},\n",
       "        {'{urn:hl7-org:v3}content': {'text': 'Бюдже!!!!!!!!!!!!!69/1\\n\\nПРОТОКОЛ ОБСЛЕДОВАНИЯ № !!!!!!!!!!!!!\\n\\n\\nФ.И.О.: Д М К\\nВозраст (дата рождения): 59 ( 21.02.1964)\\nПредварительный диагноз: \\n\\n ЗАКЛЮЧЕНИЕ  : \\nПО 05.04.2023 15:17\\nСинусовый ритм с ЧСС 80 уд.мин. ЭОС горизонтальная.\\nПризнаки течения Q ИМ нижней ст ( ST ближе к изолинии, инверсия з Т).\\nНевыраженные изменения высоко-боковой стенки.'}}]},\n",
       "      {'{urn:hl7-org:v3}td': [{'{urn:hl7-org:v3}content': {'text': 'Заключение'}},\n",
       "        {'{urn:hl7-org:v3}content': {'text': 'ЗАКЛЮЧЕНИЕ  : \\nПО 05.04.2023 15:17\\nСинусовый ритм с ЧСС 80 уд.мин. ЭОС горизонтальная.\\nПризнаки течения Q ИМ нижней ст ( ST ближе к изолинии, инверсия з Т).\\nНевыраженные изменения высоко-боковой стенки.'}}]},\n",
       "      {'{urn:hl7-org:v3}td': [{'{urn:hl7-org:v3}content': {'text': 'Выявленная патология'}},\n",
       "        {'{urn:hl7-org:v3}content': {}}]},\n",
       "      {'{urn:hl7-org:v3}td': [{'{urn:hl7-org:v3}content': {'text': 'Диагноз'}},\n",
       "        {'{urn:hl7-org:v3}content': {'text': 'I21.1 Острый трансмуральный инфаркт нижней стенки миокарда'}}]},\n",
       "      {'{urn:hl7-org:v3}td': [{'{urn:hl7-org:v3}content': {'text': 'Услуги'}},\n",
       "        {'{urn:hl7-org:v3}content': {'text': 'Регистрация электрокардиограммы (A05.10.006)'}}]},\n",
       "      {'{urn:hl7-org:v3}td': [{'{urn:hl7-org:v3}content': {'text': 'Врач'}},\n",
       "        {'{urn:hl7-org:v3}content': {'text': 'С К П (Врач функциональной диагностики)'}}]}]},\n",
       "    'width': '100%'}}},\n",
       " 'Сведения о пребывании пациента в Отделение анестезиологии-реанимации с палатами реанимации и интенсивной терапии №2': {'Рентгеноскопия грудной клетки (05.04.2023 21:00)': None,\n",
       "  'Электрокардиография (05.04.2023 21:00)': None}}"
      ]
     },
     "execution_count": 116,
     "metadata": {},
     "output_type": "execute_result"
    }
   ],
   "source": [
    "compute_full_wards(data)"
   ]
  },
  {
   "cell_type": "code",
   "execution_count": 117,
   "id": "b42fc01c-dbc4-4608-945e-39d590f0af9a",
   "metadata": {},
   "outputs": [
    {
     "data": {
      "text/plain": [
       "'19640221'"
      ]
     },
     "execution_count": 117,
     "metadata": {},
     "output_type": "execute_result"
    }
   ],
   "source": [
    "get_age(data)"
   ]
  },
  {
   "cell_type": "code",
   "execution_count": 104,
   "id": "3e0d713a-907e-45c2-8a97-c5a02983e273",
   "metadata": {},
   "outputs": [],
   "source": [
    "def parse1(data, i):\n",
    "    short_path_to_section = [i, 'section', 'text']\n",
    "\n",
    "\n",
    "    section_fields = find_section_by_optimized_path(data, short_path_to_section)\n",
    "    table = parse_table_wtheader(section_fields)\n",
    "    return table\n",
    "    # return section_fields\n",
    "    \n"
   ]
  },
  {
   "cell_type": "code",
   "execution_count": 105,
   "id": "8c43774e-6658-41d4-b1c9-e010547887b2",
   "metadata": {},
   "outputs": [
    {
     "data": {
      "text/html": [
       "<div>\n",
       "<style scoped>\n",
       "    .dataframe tbody tr th:only-of-type {\n",
       "        vertical-align: middle;\n",
       "    }\n",
       "\n",
       "    .dataframe tbody tr th {\n",
       "        vertical-align: top;\n",
       "    }\n",
       "\n",
       "    .dataframe thead th {\n",
       "        text-align: right;\n",
       "    }\n",
       "</style>\n",
       "<table border=\"1\" class=\"dataframe\">\n",
       "  <thead>\n",
       "    <tr style=\"text-align: right;\">\n",
       "      <th></th>\n",
       "      <th>Column 1</th>\n",
       "      <th>Column 2</th>\n",
       "    </tr>\n",
       "  </thead>\n",
       "  <tbody>\n",
       "    <tr>\n",
       "      <th>0</th>\n",
       "      <td>Эффективная доза</td>\n",
       "      <td>None</td>\n",
       "    </tr>\n",
       "    <tr>\n",
       "      <th>1</th>\n",
       "      <td>Протокол</td>\n",
       "      <td>С ПАЦИЕНТОМ (ЕГО ЗАКОННЫМ ПРЕДСТАВИТЕЛЕМ) ПРОВ...</td>\n",
       "    </tr>\n",
       "    <tr>\n",
       "      <th>2</th>\n",
       "      <td>Заключение</td>\n",
       "      <td>Р-признаков очагово- инфильтративных изменений...</td>\n",
       "    </tr>\n",
       "    <tr>\n",
       "      <th>3</th>\n",
       "      <td>Выявленная патология</td>\n",
       "      <td>None</td>\n",
       "    </tr>\n",
       "    <tr>\n",
       "      <th>4</th>\n",
       "      <td>Диагноз</td>\n",
       "      <td>I21.1 Острый трансмуральный инфаркт нижней сте...</td>\n",
       "    </tr>\n",
       "    <tr>\n",
       "      <th>5</th>\n",
       "      <td>Услуги</td>\n",
       "      <td>Прицельная рентгенография органов грудной клет...</td>\n",
       "    </tr>\n",
       "    <tr>\n",
       "      <th>6</th>\n",
       "      <td>Врач</td>\n",
       "      <td>Ц В Н (Врач-рентгенолог)</td>\n",
       "    </tr>\n",
       "  </tbody>\n",
       "</table>\n",
       "</div>"
      ],
      "text/plain": [
       "               Column 1                                           Column 2\n",
       "0      Эффективная доза                                               None\n",
       "1              Протокол  С ПАЦИЕНТОМ (ЕГО ЗАКОННЫМ ПРЕДСТАВИТЕЛЕМ) ПРОВ...\n",
       "2            Заключение  Р-признаков очагово- инфильтративных изменений...\n",
       "3  Выявленная патология                                               None\n",
       "4               Диагноз  I21.1 Острый трансмуральный инфаркт нижней сте...\n",
       "5                Услуги  Прицельная рентгенография органов грудной клет...\n",
       "6                  Врач                           Ц В Н (Врач-рентгенолог)"
      ]
     },
     "execution_count": 105,
     "metadata": {},
     "output_type": "execute_result"
    }
   ],
   "source": [
    "p1 = parse1(res_list, 0)\n",
    "p1"
   ]
  },
  {
   "cell_type": "code",
   "execution_count": 44,
   "id": "80f6a813-941a-4a98-b3fc-f1c65a98e35a",
   "metadata": {},
   "outputs": [
    {
     "data": {
      "text/plain": [
       "4"
      ]
     },
     "execution_count": 44,
     "metadata": {},
     "output_type": "execute_result"
    }
   ],
   "source": [
    "len(ward_list)"
   ]
  },
  {
   "cell_type": "code",
   "execution_count": 106,
   "id": "50826d4a-bb97-4ebc-b770-eaeab8648e68",
   "metadata": {},
   "outputs": [
    {
     "data": {
      "text/html": [
       "<div>\n",
       "<style scoped>\n",
       "    .dataframe tbody tr th:only-of-type {\n",
       "        vertical-align: middle;\n",
       "    }\n",
       "\n",
       "    .dataframe tbody tr th {\n",
       "        vertical-align: top;\n",
       "    }\n",
       "\n",
       "    .dataframe thead th {\n",
       "        text-align: right;\n",
       "    }\n",
       "</style>\n",
       "<table border=\"1\" class=\"dataframe\">\n",
       "  <thead>\n",
       "    <tr style=\"text-align: right;\">\n",
       "      <th></th>\n",
       "      <th>Column 1</th>\n",
       "      <th>Column 2</th>\n",
       "    </tr>\n",
       "  </thead>\n",
       "  <tbody>\n",
       "    <tr>\n",
       "      <th>0</th>\n",
       "      <td>Эффективная доза</td>\n",
       "      <td>None</td>\n",
       "    </tr>\n",
       "    <tr>\n",
       "      <th>1</th>\n",
       "      <td>Протокол</td>\n",
       "      <td>Окружн!!!!!!!!!!!!!69/1\\nПРОТОКОЛ ОБСЛЕДОВАНИЯ...</td>\n",
       "    </tr>\n",
       "    <tr>\n",
       "      <th>2</th>\n",
       "      <td>Заключение</td>\n",
       "      <td>ЗАКЛЮЧЕНИЕ  : \\nСостояние после стентирования ...</td>\n",
       "    </tr>\n",
       "    <tr>\n",
       "      <th>3</th>\n",
       "      <td>Выявленная патология</td>\n",
       "      <td>None</td>\n",
       "    </tr>\n",
       "    <tr>\n",
       "      <th>4</th>\n",
       "      <td>Диагноз</td>\n",
       "      <td>I21.1 Острый трансмуральный инфаркт нижней сте...</td>\n",
       "    </tr>\n",
       "    <tr>\n",
       "      <th>5</th>\n",
       "      <td>Услуги</td>\n",
       "      <td>Эхокардиография (A04.10.002)</td>\n",
       "    </tr>\n",
       "    <tr>\n",
       "      <th>6</th>\n",
       "      <td>Врач</td>\n",
       "      <td>Ш Д Н (Врач ультразвуковой диагностики)</td>\n",
       "    </tr>\n",
       "  </tbody>\n",
       "</table>\n",
       "</div>"
      ],
      "text/plain": [
       "               Column 1                                           Column 2\n",
       "0      Эффективная доза                                               None\n",
       "1              Протокол  Окружн!!!!!!!!!!!!!69/1\\nПРОТОКОЛ ОБСЛЕДОВАНИЯ...\n",
       "2            Заключение  ЗАКЛЮЧЕНИЕ  : \\nСостояние после стентирования ...\n",
       "3  Выявленная патология                                               None\n",
       "4               Диагноз  I21.1 Острый трансмуральный инфаркт нижней сте...\n",
       "5                Услуги                       Эхокардиография (A04.10.002)\n",
       "6                  Врач            Ш Д Н (Врач ультразвуковой диагностики)"
      ]
     },
     "execution_count": 106,
     "metadata": {},
     "output_type": "execute_result"
    }
   ],
   "source": [
    "p1 = parse1(res_list, 1)\n",
    "p1"
   ]
  },
  {
   "cell_type": "code",
   "execution_count": null,
   "id": "445cc4b1-d45a-40a0-a361-8c3554d074f7",
   "metadata": {},
   "outputs": [],
   "source": []
  }
 ],
 "metadata": {
  "kernelspec": {
   "display_name": "mlmed11",
   "language": "python",
   "name": "your_project_name"
  },
  "language_info": {
   "codemirror_mode": {
    "name": "ipython",
    "version": 3
   },
   "file_extension": ".py",
   "mimetype": "text/x-python",
   "name": "python",
   "nbconvert_exporter": "python",
   "pygments_lexer": "ipython3",
   "version": "3.12.2"
  }
 },
 "nbformat": 4,
 "nbformat_minor": 5
}
