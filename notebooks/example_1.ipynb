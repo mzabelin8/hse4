{
 "cells": [
  {
   "cell_type": "markdown",
   "id": "69ae5c60-50db-4d75-9a01-bcea770927e2",
   "metadata": {},
   "source": [
    "#### В этом ноутбуке буду собирать примеры как использую какие-то функции"
   ]
  },
  {
   "cell_type": "code",
   "execution_count": 1,
   "id": "8d353d43-5b46-4ebf-9be9-ef81d51a218e",
   "metadata": {},
   "outputs": [],
   "source": [
    "import pandas as pd\n",
    "import xml.etree.ElementTree as ET\n",
    "from io import StringIO\n",
    "import json"
   ]
  },
  {
   "cell_type": "code",
   "execution_count": 2,
   "id": "4609611a-eb82-4e89-8739-ed516d556c36",
   "metadata": {},
   "outputs": [],
   "source": [
    "%load_ext autoreload\n",
    "%autoreload 2"
   ]
  },
  {
   "cell_type": "markdown",
   "id": "68d46765-88a0-4da0-b367-472826175dbb",
   "metadata": {},
   "source": [
    "Мне удобней работать с json чем xml (легче писать парсер и для vscode есть расширения, с которыми удобней руками лазать по файлам), поэтому сначала перевожу файл в json"
   ]
  },
  {
   "cell_type": "code",
   "execution_count": 3,
   "id": "128039df-603c-41a6-bce4-9ae6f2cdcd3b",
   "metadata": {},
   "outputs": [],
   "source": [
    "from src.converter import *\n",
    "from src.parser_fucn import *\n",
    "from src.parser_main import *\n",
    "from src.parser_lab import *"
   ]
  },
  {
   "cell_type": "code",
   "execution_count": 4,
   "id": "2dec0404-c3ab-4af3-8841-0c3c871b1639",
   "metadata": {},
   "outputs": [],
   "source": [
    "path_xml = 'f11.xml'\n",
    "path_json = 'f11.json'"
   ]
  },
  {
   "cell_type": "code",
   "execution_count": 5,
   "id": "f540e98d-3b01-42f1-ae22-bb7d208b7af8",
   "metadata": {},
   "outputs": [],
   "source": [
    "xml_to_json(path_xml, path_json)\n",
    "with open(path_json, 'r', encoding='utf-8') as file:\n",
    "    data = json.load(file)"
   ]
  },
  {
   "cell_type": "markdown",
   "id": "269adbc3-8f4d-43a4-99d8-e13ef2e17332",
   "metadata": {},
   "source": [
    "А вот так я конвертирую все файлы"
   ]
  },
  {
   "cell_type": "markdown",
   "id": "82c86bba-dc96-4bb1-899d-51b694c06868",
   "metadata": {},
   "source": [
    "paths = [('/Users/maximzabelin/My/edc/hse4/data/med_records/DocsNew1', \n",
    "          '/Users/maximzabelin/My/edc/hse4/data/med_records/DocsNew1_json'),\n",
    "        ('/Users/maximzabelin/My/edc/hse4/data/med_records/DocsNew2', \n",
    "          '/Users/maximzabelin/My/edc/hse4/data/med_records/DocsNew2_json'),\n",
    "        ('/Users/maximzabelin/My/edc/hse4/data/med_records/DocsNew3', \n",
    "          '/Users/maximzabelin/My/edc/hse4/data/med_records/DocsNew3_json'),]\n",
    "\n",
    "for in_path, out_path in paths:\n",
    "    process_files_in_directory(in_path, out_path)"
   ]
  },
  {
   "cell_type": "markdown",
   "id": "e836fcf1-b411-4ad5-bf18-6fbce9ac1400",
   "metadata": {},
   "source": [
    "Теперь в `data` у нас сохранене весь json, пока мне не \n",
    "попадаличь сильно большие файлы (сейчас все до 10к строк)\n",
    "Если когда-нибудь начнутся проблемы, нужно будет доставать оттуда только нужные куски"
   ]
  },
  {
   "cell_type": "markdown",
   "id": "4afb7b8d-ef34-400e-94fb-6086f02993f0",
   "metadata": {},
   "source": [
    "Теперь можем доставать различные куски из файлов"
   ]
  },
  {
   "cell_type": "code",
   "execution_count": 6,
   "id": "f61b7007-faad-42c9-b104-05af787c8b3b",
   "metadata": {},
   "outputs": [
    {
     "data": {
      "text/plain": [
       "'Мужской'"
      ]
     },
     "execution_count": 6,
     "metadata": {},
     "output_type": "execute_result"
    }
   ],
   "source": [
    "get_sex(data)"
   ]
  },
  {
   "cell_type": "code",
   "execution_count": 7,
   "id": "a5f9c2dd-4dc2-47bc-86b2-e82b7b178f38",
   "metadata": {},
   "outputs": [
    {
     "data": {
      "text/plain": [
       "'19620330'"
      ]
     },
     "execution_count": 7,
     "metadata": {},
     "output_type": "execute_result"
    }
   ],
   "source": [
    "get_age(data)"
   ]
  },
  {
   "cell_type": "markdown",
   "id": "c5e13a27-b145-4576-a9ac-bf85cbc90242",
   "metadata": {},
   "source": [
    "Теперь давайте данные про госпитализацию"
   ]
  },
  {
   "cell_type": "code",
   "execution_count": 8,
   "id": "7ac222b4-4eaa-4fae-8bbb-228cdd1f107a",
   "metadata": {},
   "outputs": [],
   "source": [
    "table, type_gosp, way_gosp = get_gosp_info(data)"
   ]
  },
  {
   "cell_type": "code",
   "execution_count": 9,
   "id": "e1ee7d82-552b-4ac1-ae5d-6e6f15f4c7fa",
   "metadata": {},
   "outputs": [
    {
     "data": {
      "text/html": [
       "<div>\n",
       "<style scoped>\n",
       "    .dataframe tbody tr th:only-of-type {\n",
       "        vertical-align: middle;\n",
       "    }\n",
       "\n",
       "    .dataframe tbody tr th {\n",
       "        vertical-align: top;\n",
       "    }\n",
       "\n",
       "    .dataframe thead th {\n",
       "        text-align: right;\n",
       "    }\n",
       "</style>\n",
       "<table border=\"1\" class=\"dataframe\">\n",
       "  <thead>\n",
       "    <tr style=\"text-align: right;\">\n",
       "      <th></th>\n",
       "      <th>Вид нозологической единицы</th>\n",
       "      <th>Врачебное описание нозологической единицы</th>\n",
       "      <th>Код по МКБ-10</th>\n",
       "    </tr>\n",
       "  </thead>\n",
       "  <tbody>\n",
       "    <tr>\n",
       "      <th>0</th>\n",
       "      <td>Основное заболевание</td>\n",
       "      <td>ИБС. Прогрессирующая стенокардия. АКШ от 17.09...</td>\n",
       "      <td>I20.0</td>\n",
       "    </tr>\n",
       "    <tr>\n",
       "      <th>1</th>\n",
       "      <td>Основное заболевание</td>\n",
       "      <td>ИБС. Прогрессирующая стенокардия. АКШ от 17.09...</td>\n",
       "      <td>I20.0</td>\n",
       "    </tr>\n",
       "    <tr>\n",
       "      <th>2</th>\n",
       "      <td>Осложнение основного заболевания</td>\n",
       "      <td>ОСН 1 по Killip.</td>\n",
       "      <td>I50.1</td>\n",
       "    </tr>\n",
       "    <tr>\n",
       "      <th>3</th>\n",
       "      <td>Сопутствующее заболевание</td>\n",
       "      <td>Пароксизмальная форма фибрилляции предсердий, ...</td>\n",
       "      <td>I48.0</td>\n",
       "    </tr>\n",
       "    <tr>\n",
       "      <th>4</th>\n",
       "      <td>Сопутствующее заболевание</td>\n",
       "      <td>Ожирение 2 степени. (ИМТ 36 кг/м2).</td>\n",
       "      <td>E66.9</td>\n",
       "    </tr>\n",
       "    <tr>\n",
       "      <th>5</th>\n",
       "      <td>Сопутствующее заболевание</td>\n",
       "      <td>Кисты почек</td>\n",
       "      <td>N28.1</td>\n",
       "    </tr>\n",
       "    <tr>\n",
       "      <th>6</th>\n",
       "      <td>Фоновое заболевание</td>\n",
       "      <td>Гипертоническая болезнь III стадии. Неконтроли...</td>\n",
       "      <td>I11.9</td>\n",
       "    </tr>\n",
       "  </tbody>\n",
       "</table>\n",
       "</div>"
      ],
      "text/plain": [
       "         Вид нозологической единицы  \\\n",
       "0              Основное заболевание   \n",
       "1              Основное заболевание   \n",
       "2  Осложнение основного заболевания   \n",
       "3         Сопутствующее заболевание   \n",
       "4         Сопутствующее заболевание   \n",
       "5         Сопутствующее заболевание   \n",
       "6               Фоновое заболевание   \n",
       "\n",
       "           Врачебное описание нозологической единицы Код по МКБ-10  \n",
       "0  ИБС. Прогрессирующая стенокардия. АКШ от 17.09...         I20.0  \n",
       "1  ИБС. Прогрессирующая стенокардия. АКШ от 17.09...         I20.0  \n",
       "2                                   ОСН 1 по Killip.         I50.1  \n",
       "3  Пароксизмальная форма фибрилляции предсердий, ...         I48.0  \n",
       "4                Ожирение 2 степени. (ИМТ 36 кг/м2).         E66.9  \n",
       "5                                        Кисты почек         N28.1  \n",
       "6  Гипертоническая болезнь III стадии. Неконтроли...         I11.9  "
      ]
     },
     "execution_count": 9,
     "metadata": {},
     "output_type": "execute_result"
    }
   ],
   "source": [
    "table"
   ]
  },
  {
   "cell_type": "code",
   "execution_count": 10,
   "id": "84520433-5e27-44b3-ba07-8ae37a20fe41",
   "metadata": {},
   "outputs": [
    {
     "data": {
      "text/plain": [
       "'Первичный'"
      ]
     },
     "execution_count": 10,
     "metadata": {},
     "output_type": "execute_result"
    }
   ],
   "source": [
    "type_gosp"
   ]
  },
  {
   "cell_type": "code",
   "execution_count": 11,
   "id": "ab21ba46-1b76-4bb2-97d9-5dba6a77c41d",
   "metadata": {},
   "outputs": [
    {
     "data": {
      "text/plain": [
       "'Доставлен бригадой скорой помощи'"
      ]
     },
     "execution_count": 11,
     "metadata": {},
     "output_type": "execute_result"
    }
   ],
   "source": [
    "way_gosp"
   ]
  },
  {
   "cell_type": "markdown",
   "id": "84436ea2-7b22-4c71-a8b8-7eab013d5c29",
   "metadata": {},
   "source": [
    "Теперь диагнозы и анамнезы"
   ]
  },
  {
   "cell_type": "code",
   "execution_count": 12,
   "id": "9f6ea2a1-0b4e-4bf1-be32-8520af56b633",
   "metadata": {},
   "outputs": [
    {
     "data": {
      "text/html": [
       "<div>\n",
       "<style scoped>\n",
       "    .dataframe tbody tr th:only-of-type {\n",
       "        vertical-align: middle;\n",
       "    }\n",
       "\n",
       "    .dataframe tbody tr th {\n",
       "        vertical-align: top;\n",
       "    }\n",
       "\n",
       "    .dataframe thead th {\n",
       "        text-align: right;\n",
       "    }\n",
       "</style>\n",
       "<table border=\"1\" class=\"dataframe\">\n",
       "  <thead>\n",
       "    <tr style=\"text-align: right;\">\n",
       "      <th></th>\n",
       "      <th>Вид нозологической единицы</th>\n",
       "      <th>Врачебное описание нозологической единицы</th>\n",
       "      <th>Код по МКБ-10</th>\n",
       "    </tr>\n",
       "  </thead>\n",
       "  <tbody>\n",
       "    <tr>\n",
       "      <th>0</th>\n",
       "      <td>Основное заболевание</td>\n",
       "      <td>ИБС. Прогрессирующая стенокардия. АКШ от 17.09...</td>\n",
       "      <td>I20.0</td>\n",
       "    </tr>\n",
       "    <tr>\n",
       "      <th>1</th>\n",
       "      <td>Основное заболевание</td>\n",
       "      <td>ИБС. Прогрессирующая стенокардия. АКШ от 17.09...</td>\n",
       "      <td>I20.0</td>\n",
       "    </tr>\n",
       "    <tr>\n",
       "      <th>2</th>\n",
       "      <td>Осложнение основного заболевания</td>\n",
       "      <td>ОСН 1 по Killip.</td>\n",
       "      <td>I50.1</td>\n",
       "    </tr>\n",
       "    <tr>\n",
       "      <th>3</th>\n",
       "      <td>Сопутствующее заболевание</td>\n",
       "      <td>Пароксизмальная форма фибрилляции предсердий, ...</td>\n",
       "      <td>I48.0</td>\n",
       "    </tr>\n",
       "    <tr>\n",
       "      <th>4</th>\n",
       "      <td>Сопутствующее заболевание</td>\n",
       "      <td>Ожирение 2 степени. (ИМТ 36 кг/м2).</td>\n",
       "      <td>E66.9</td>\n",
       "    </tr>\n",
       "    <tr>\n",
       "      <th>5</th>\n",
       "      <td>Сопутствующее заболевание</td>\n",
       "      <td>Кисты почек</td>\n",
       "      <td>N28.1</td>\n",
       "    </tr>\n",
       "    <tr>\n",
       "      <th>6</th>\n",
       "      <td>Фоновое заболевание</td>\n",
       "      <td>Гипертоническая болезнь III стадии. Неконтроли...</td>\n",
       "      <td>I11.9</td>\n",
       "    </tr>\n",
       "  </tbody>\n",
       "</table>\n",
       "</div>"
      ],
      "text/plain": [
       "         Вид нозологической единицы  \\\n",
       "0              Основное заболевание   \n",
       "1              Основное заболевание   \n",
       "2  Осложнение основного заболевания   \n",
       "3         Сопутствующее заболевание   \n",
       "4         Сопутствующее заболевание   \n",
       "5         Сопутствующее заболевание   \n",
       "6               Фоновое заболевание   \n",
       "\n",
       "           Врачебное описание нозологической единицы Код по МКБ-10  \n",
       "0  ИБС. Прогрессирующая стенокардия. АКШ от 17.09...         I20.0  \n",
       "1  ИБС. Прогрессирующая стенокардия. АКШ от 17.09...         I20.0  \n",
       "2                                   ОСН 1 по Killip.         I50.1  \n",
       "3  Пароксизмальная форма фибрилляции предсердий, ...         I48.0  \n",
       "4                Ожирение 2 степени. (ИМТ 36 кг/м2).         E66.9  \n",
       "5                                        Кисты почек         N28.1  \n",
       "6  Гипертоническая болезнь III стадии. Неконтроли...         I11.9  "
      ]
     },
     "execution_count": 12,
     "metadata": {},
     "output_type": "execute_result"
    }
   ],
   "source": [
    "get_diagnosis(data)"
   ]
  },
  {
   "cell_type": "markdown",
   "id": "4d42ce9a-55c3-464c-b433-36234fbbd400",
   "metadata": {},
   "source": [
    "Кстати тут совпало с тем что было в госпитализаци (хотя достаю из разных мест файлов)"
   ]
  },
  {
   "cell_type": "code",
   "execution_count": 13,
   "id": "c92dff3b-54ee-455e-b2cc-5e247a7a4615",
   "metadata": {},
   "outputs": [
    {
     "data": {
      "text/plain": [
       "'Клиника ангинозных болей с 2014г. тогда же выявлена ФП. В сентябре 2014г планово госпитализирован в БУ ОКБ г. Ханты-Мансийска. По данным КАГ выявлено многоручловое гемодинамически значимое поражение КА. Проведено оперативное смешательство в объеме АКШ от 17.09.14г: МКА ПМЖВ+2ДВ (секвенциально), ЗБЛВ ПКА + РЧА. В июле  2017г плановая госпитализация в БУ ОКБ г. Ханты-Мансийска с ДЗ: ИБС. СН 2 ФК. По результатам КШГ выполнена операция: ТБКА и стентирование ПМЖВ от 05.07.2017г.  После выписки рекомендации выполнял, наблюдался в ГП по м/ж, ангинозные боли не беспокоили. Переехал в г. Сургут в 2020г, консультирован кардиологом ОКД в 2021г., рекомендации выполнял. В течение последнего месяца самостостельно прекратил прием всех препаратов. Настоящее ухудшение состояния в течение 2-3х дней, в виде прогрессирующего снижения ТФН, кратковременных жгучих болей за грудиной, при ходьбе на расстояние до 100м, cопровождающихся одышкой инспираторного характера. С утра 04.03.23г, находясь по месту работы, зафиксировано АД 190/мм.рт.ст., в мед. пункте проведено антигипертензивное лечение, с улучшением (АД 130/мм.рт.ст.). По ЭКГ ритм ФП, нормосистолия. Пациент снят со смены. Рекомендовано экстренно обратиться за мед. помощью. Вызванной бСМП доставлен в ПО ОКД с ДЗ: ХСН.   \\nПовышение АД много лет. Максимальное АД 180/мм.рт.ст. Медикаментозно достигнутое АД 140/мм.рт.ст.\\nНРС по типу пароксизмальной-персистирующей формы ФП с 2014г. Срывы ритма не чувствует.\\nОИМ, ОНМК, БА, ЯБ ЖКТ отрицает.\\nПроведен тромболизис догоспитально нет'"
      ]
     },
     "execution_count": 13,
     "metadata": {},
     "output_type": "execute_result"
    }
   ],
   "source": [
    "get_amnez_d(data)"
   ]
  },
  {
   "cell_type": "code",
   "execution_count": 14,
   "id": "d0b18b93-d9e3-4466-832c-5a51e04b6588",
   "metadata": {},
   "outputs": [
    {
     "data": {
      "text/plain": [
       "'Эпидемиологический анамнез:\\nСо слов пациента, с больными корью не контактировал(а)., Со слов пациента, с больными гриппом и другими ОРВИ не контактировал(а) за 2022-2023гг., В течение последнего месяца за территорию РФ не выезжал (а). Со слов пациента, с больным &quot;оспой обезьян&quot; не контактировал (а). \\nВакцинация от гриппа нет \\nБолел ранее COVID-19  нет  \\nВакцинация от COVID-19   2021г \\nРевакцинация от COVID-19 нет  \\nПедикулез, чесотка не выявлены.\\nПеренесенные заболевания: ИБС;, ФП;, ГБ;  Кисты почек.\\nТравмы, операции:  РЧА (2014 г.); АКШ (2014 г.), ЧКВ: ТБКА и стентирование ПМЖВ (2017 г.), Эндоскопическая полипэктомия ободочной кишки в 2019г.\\nАллергоанамнез: не отягощён \\nГемотрансфузионный анамнез: переливание крови да 2014г\\nТуберкулез, вен. заболевания, вирусный гепатит отрицает.\\nД-учет: да Поликлиника: ГП№4 Последнее посещение терапевта: 2022г'"
      ]
     },
     "execution_count": 14,
     "metadata": {},
     "output_type": "execute_result"
    }
   ],
   "source": [
    "get_amnez_life(data)"
   ]
  },
  {
   "cell_type": "code",
   "execution_count": 15,
   "id": "f8fb1f87-1a2b-4d41-a4f4-514107126515",
   "metadata": {},
   "outputs": [
    {
     "data": {
      "text/plain": [
       "['Состояние: Средней тяжести',\n",
       " 'Жалобы: на кратковременные жгучие боли за грудиной при минимальной ФН, сопровождающиеся инспираторной одышкой. На момент осмотра в ПО ангинозные боли отрицает.',\n",
       " 'Объективный статус: \\nСтепень тяжести Средней тяжести Сознание: ясное \\nТелосложение гиперстеник Питание: избыточное \\n РОСТ  182  ВЕС  118  ИМТ 36\\nКожные покровы: физиологической окраски нормальной влажности \\nТ-ра тела 36,5С, зев чистый, не гиперемирован.\\nЛимфоузлы: не увеличены \\nОпорно-двигательный аппарат: без патологии; Нижние конечности: физиологической окраски  не гиперемированы на ощупь теплые пульсация отчетливая при пальпации безболезненны \\nДыхание: везикулярное Хрипы: не выслушиваются ЧДД 17 в мин spO2 -97%\\nПеркуссия легких: при сравнительной перкуссии легкий над всей поверхностью легочных полей определяется ясный легочный звук.\\nОбласть сердца и крупных сосудов не изменена \\nДругие пульсации в области сердца: нет.\\nВерхушечный толчок  не уширен в V межреберье кнутри от СКЛ на 2 см. S-до 2 кв.см.\\nГраницы относительной сердечности тупости: не изменены \\nТоны сердца: приглушены Ритм: фибрилляция предсердий Шумы - не выслушиваются \\nАД (прав)=АД (лев)  160/100  мм рт. ст. ЧСЖ  74-99  уд/мин.\\nЯзык влажный чистый Живот: мягкий  безболезненный \\nПечень: не увеличена Симптом поколачивания отрицательный \\nДиурез адекватный  Отеки: пастозность, стоп, голеней Стул регулярный (со слов)\\nCHA2DS2VASc 2 балла, HAS-BLEND - 01 балл\\nНаличие изменений на ЭКГ без подъема сегмента ST \\nКардиогенный шок нет \\nОценка по шкале GRACE &lt; 140 средний риск 112 б.\\nОценка по шкале CRUSADE умеренный 33 б\\nШкала CAPRINI (оценка риска ВТЭО) умереный риск \\nШкала IMPROVE (оценка риска кровотечений) низкий риск \\nСпособы профилактики ВТЭО: 1. Ранняя активизация и адекватная гидратация,, 2. механические способы профилактики;, 3. антикоагулянтная профилактика (клексан 0,4мг п/к 1р/д); \\nЛечение (ПО ОКД): Каптоприл по 1 (доза: 25 МГ) Сублингвально однократно. 1 день. В динамике АД 140/90мм.рт.ст. ЧСС 82 в мин. жалоб нет.\\nЛечение (СМП): фуросемид 4,0 в/в \\nРезультаты обследования:\\nЭКГ в ПО ОКД: ритм ФП с ЧСЖ 85 в мин. ЭОС - отклонена влево. Слабый прирост з. r в V1-V4. Нарушение роцессов реполяризации по боковой стенке ЛЖ. ГЛЖ.\\n 04.03.2023 19:55:00   Общий (клинический) анализ крови развернутый: Лейкоциты - 6.56 10^9/л;Нейтрофилы абс. - 3.58 ;Нейтрофилы - 54.6 %;Лимфоциты абс. - 1.97 ;Лимфоциты - 30.0 %;Моноциты абс. - 0.83 ;Моноциты - 12.7 %;Эозинофилы абс. - 0.16 ;Эозинофилы - 2.4 %;Базофилы абс. - 0.02 ;Базофилы - 0.3 %;Эритроциты - 4.77 10^12/л;Гемоглобин - 145.0 г/л;Гематокрит - 43.2 %;MCV - 90.6 ;MCH - 30.4 ;MCHC - 336.0 ;RDW - 13.8 ;Тромбоциты - 92.0 10^9/л;MPV - 10.5 ;PCT - 0.1 ;PDW - 11.7 ;\\n 04.03.2023 19:55:00   Исследование функции нефронов по клиренсу креатинина (проба Реберга): Креатинин - 99.0 МКМОЛЬ\\\\Л;СКФ по формуле CKD-EPI - 71.0 МЛ\\\\МИН\\\\1,73м2;\\n 04.03.2023 19:55:00   Исследование уровня тропонина T в крови: Исследование уровня тропонина T в крови - 22.88 pg/ml;\\nПлан лечения: а/агреганты, а/коагулянты, б/блокаторы, гастропротекторы, иАПФ, нитраты, статины, симптоматическое лечение \\n Пациент с планом обследования ознакомлен, согласен \\nПациент подготовлен и транспортирован в ПИН КО№2 для до обследования, динамического наблюдения и выбора тактики лечения в 20:30ч. \\n Учитывая наличие критериев высокого риска неблагоприятного исхода, проведение КАГ в течение 2-24 часа после госпитализации']"
      ]
     },
     "execution_count": 15,
     "metadata": {},
     "output_type": "execute_result"
    }
   ],
   "source": [
    "get_condition(data)"
   ]
  },
  {
   "cell_type": "markdown",
   "id": "b12dc605-bef2-425b-b3b1-f1281c5f9a83",
   "metadata": {},
   "source": [
    "Дальше идет информация по отделениям где был пациент,вот общая таблица"
   ]
  },
  {
   "cell_type": "code",
   "execution_count": 16,
   "id": "e0436ad3-7255-45fd-98ca-0f9cce7f19f0",
   "metadata": {},
   "outputs": [
    {
     "data": {
      "text/html": [
       "<div>\n",
       "<style scoped>\n",
       "    .dataframe tbody tr th:only-of-type {\n",
       "        vertical-align: middle;\n",
       "    }\n",
       "\n",
       "    .dataframe tbody tr th {\n",
       "        vertical-align: top;\n",
       "    }\n",
       "\n",
       "    .dataframe thead th {\n",
       "        text-align: right;\n",
       "    }\n",
       "</style>\n",
       "<table border=\"1\" class=\"dataframe\">\n",
       "  <thead>\n",
       "    <tr style=\"text-align: right;\">\n",
       "      <th></th>\n",
       "      <th>Название</th>\n",
       "      <th>Дата поступления</th>\n",
       "      <th>Дата перевода</th>\n",
       "      <th>Профиль койки</th>\n",
       "      <th>Лечащий врач</th>\n",
       "    </tr>\n",
       "  </thead>\n",
       "  <tbody>\n",
       "    <tr>\n",
       "      <th>0</th>\n",
       "      <td>Приемное отделение</td>\n",
       "      <td>04.03.2023 20:20</td>\n",
       "      <td>04.03.2023 20:29</td>\n",
       "      <td>С А А (Врач-кардиолог)</td>\n",
       "      <td>None</td>\n",
       "    </tr>\n",
       "    <tr>\n",
       "      <th>1</th>\n",
       "      <td>Кардиологическое отделение с ПРиИТ для лечения...</td>\n",
       "      <td>04.03.2023 20:30</td>\n",
       "      <td>06.03.2023 08:55</td>\n",
       "      <td>Р И Ю (Врач-кардиолог)</td>\n",
       "      <td>None</td>\n",
       "    </tr>\n",
       "    <tr>\n",
       "      <th>2</th>\n",
       "      <td>Кардиологическое отделение с ПРиИТ для лечения...</td>\n",
       "      <td>06.03.2023 08:56</td>\n",
       "      <td>13.03.2023 12:00</td>\n",
       "      <td>Р И Ю (Врач-кардиолог)</td>\n",
       "      <td>None</td>\n",
       "    </tr>\n",
       "  </tbody>\n",
       "</table>\n",
       "</div>"
      ],
      "text/plain": [
       "                                            Название  Дата поступления  \\\n",
       "0                                 Приемное отделение  04.03.2023 20:20   \n",
       "1  Кардиологическое отделение с ПРиИТ для лечения...  04.03.2023 20:30   \n",
       "2  Кардиологическое отделение с ПРиИТ для лечения...  06.03.2023 08:56   \n",
       "\n",
       "      Дата перевода           Профиль койки Лечащий врач  \n",
       "0  04.03.2023 20:29  С А А (Врач-кардиолог)         None  \n",
       "1  06.03.2023 08:55  Р И Ю (Врач-кардиолог)         None  \n",
       "2  13.03.2023 12:00  Р И Ю (Врач-кардиолог)         None  "
      ]
     },
     "execution_count": 16,
     "metadata": {},
     "output_type": "execute_result"
    }
   ],
   "source": [
    "get_ward_table(data)"
   ]
  },
  {
   "cell_type": "markdown",
   "id": "0b85b0a1-fbd1-402a-bb70-311a4424a383",
   "metadata": {},
   "source": [
    "По умолчанию все таблицы возвращаб как pandas dataframe, но можно и просто текстом (на самом деле dict)"
   ]
  },
  {
   "cell_type": "code",
   "execution_count": 17,
   "id": "fb8852b5-a8c7-48ed-942e-7694e3643dcf",
   "metadata": {},
   "outputs": [
    {
     "data": {
      "text/plain": [
       "{'{urn:hl7-org:v3}table': {'{urn:hl7-org:v3}thead': {'{urn:hl7-org:v3}tr': {'{urn:hl7-org:v3}th': [{'text': 'Название'},\n",
       "     {'text': 'Дата поступления'},\n",
       "     {'text': 'Дата перевода'},\n",
       "     {'text': 'Профиль койки'},\n",
       "     {'text': 'Лечащий врач'}]}},\n",
       "  '{urn:hl7-org:v3}tbody': {'{urn:hl7-org:v3}tr': [{'{urn:hl7-org:v3}td': [{'{urn:hl7-org:v3}content': {'text': 'Приемное отделение'}},\n",
       "      {'{urn:hl7-org:v3}content': {'text': '04.03.2023 20:20'}},\n",
       "      {'{urn:hl7-org:v3}content': {'text': '04.03.2023 20:29'}},\n",
       "      {'{urn:hl7-org:v3}content': {'text': 'С А А (Врач-кардиолог)'}}]},\n",
       "    {'{urn:hl7-org:v3}td': [{'{urn:hl7-org:v3}content': {'text': 'Кардиологическое отделение с ПРиИТ для лечения больных с ОКС (ПСО) №2'}},\n",
       "      {'{urn:hl7-org:v3}content': {'text': '04.03.2023 20:30'}},\n",
       "      {'{urn:hl7-org:v3}content': {'text': '06.03.2023 08:55'}},\n",
       "      {'{urn:hl7-org:v3}content': {'text': 'Р И Ю (Врач-кардиолог)'}}]},\n",
       "    {'{urn:hl7-org:v3}td': [{'{urn:hl7-org:v3}content': {'text': 'Кардиологическое отделение с ПРиИТ для лечения больных с ОКС (ПСО) №2'}},\n",
       "      {'{urn:hl7-org:v3}content': {'text': '06.03.2023 08:56'}},\n",
       "      {'{urn:hl7-org:v3}content': {'text': '13.03.2023 12:00'}},\n",
       "      {'{urn:hl7-org:v3}content': {'text': 'Р И Ю (Врач-кардиолог)'}}]}]},\n",
       "  'width': '100%'}}"
      ]
     },
     "execution_count": 17,
     "metadata": {},
     "output_type": "execute_result"
    }
   ],
   "source": [
    "get_ward_table(data, 'raw')"
   ]
  },
  {
   "cell_type": "code",
   "execution_count": 18,
   "id": "5381d8d5-f3e5-46be-aa47-53acd192649c",
   "metadata": {},
   "outputs": [
    {
     "data": {
      "text/plain": [
       "dict"
      ]
     },
     "execution_count": 18,
     "metadata": {},
     "output_type": "execute_result"
    }
   ],
   "source": [
    "type(get_ward_table(data, 'raw'))"
   ]
  },
  {
   "cell_type": "markdown",
   "id": "0803240a-8d72-4306-821b-b568be7ed1b4",
   "metadata": {},
   "source": [
    "Дальше тут инфорамция по каждому из отделений, а если внутри отделения есть процедуру-анализы, то тоже достаю их"
   ]
  },
  {
   "cell_type": "code",
   "execution_count": null,
   "id": "9ecc462f-c1e7-4e67-a028-06d7fba896d9",
   "metadata": {},
   "outputs": [],
   "source": [
    "# compute_full_wards(data)"
   ]
  },
  {
   "cell_type": "markdown",
   "id": "387fef1b-d202-4e8e-bde4-6078abec5da1",
   "metadata": {},
   "source": [
    "А вот тут достану 2 таблицы из конца карточки"
   ]
  },
  {
   "cell_type": "code",
   "execution_count": 21,
   "id": "846a7e63-0c5a-4c82-8508-8112fb9fa969",
   "metadata": {},
   "outputs": [
    {
     "data": {
      "text/html": [
       "<div>\n",
       "<style scoped>\n",
       "    .dataframe tbody tr th:only-of-type {\n",
       "        vertical-align: middle;\n",
       "    }\n",
       "\n",
       "    .dataframe tbody tr th {\n",
       "        vertical-align: top;\n",
       "    }\n",
       "\n",
       "    .dataframe thead th {\n",
       "        text-align: right;\n",
       "    }\n",
       "</style>\n",
       "<table border=\"1\" class=\"dataframe\">\n",
       "  <thead>\n",
       "    <tr style=\"text-align: right;\">\n",
       "      <th></th>\n",
       "      <th>Характер основного заболевания</th>\n",
       "      <th>Исход госпитализации</th>\n",
       "      <th>Результат обращения</th>\n",
       "      <th>Признак подозрения на злокачественное новообразование</th>\n",
       "      <th>Признак развертывания индивидуального поста</th>\n",
       "    </tr>\n",
       "  </thead>\n",
       "  <tbody>\n",
       "    <tr>\n",
       "      <th>0</th>\n",
       "      <td>Острое</td>\n",
       "      <td>None</td>\n",
       "      <td>Улучшение</td>\n",
       "      <td>Нет</td>\n",
       "      <td>Нет</td>\n",
       "    </tr>\n",
       "  </tbody>\n",
       "</table>\n",
       "</div>"
      ],
      "text/plain": [
       "  Характер основного заболевания Исход госпитализации Результат обращения  \\\n",
       "0                         Острое                 None           Улучшение   \n",
       "\n",
       "  Признак подозрения на злокачественное новообразование  \\\n",
       "0                                                Нет      \n",
       "\n",
       "  Признак развертывания индивидуального поста  \n",
       "0                                         Нет  "
      ]
     },
     "execution_count": 21,
     "metadata": {},
     "output_type": "execute_result"
    }
   ],
   "source": [
    "get_final_table1(data)"
   ]
  },
  {
   "cell_type": "code",
   "execution_count": 22,
   "id": "b9187c4e-85f1-4216-a527-f0074e967539",
   "metadata": {},
   "outputs": [
    {
     "data": {
      "text/html": [
       "<div>\n",
       "<style scoped>\n",
       "    .dataframe tbody tr th:only-of-type {\n",
       "        vertical-align: middle;\n",
       "    }\n",
       "\n",
       "    .dataframe tbody tr th {\n",
       "        vertical-align: top;\n",
       "    }\n",
       "\n",
       "    .dataframe thead th {\n",
       "        text-align: right;\n",
       "    }\n",
       "</style>\n",
       "<table border=\"1\" class=\"dataframe\">\n",
       "  <thead>\n",
       "    <tr style=\"text-align: right;\">\n",
       "      <th></th>\n",
       "      <th>Вид нозологической единицы</th>\n",
       "      <th>Врачебное описание нозологической единицы</th>\n",
       "      <th>Код по МКБ-10</th>\n",
       "    </tr>\n",
       "  </thead>\n",
       "  <tbody>\n",
       "    <tr>\n",
       "      <th>0</th>\n",
       "      <td>Основное заболевание</td>\n",
       "      <td>ИБС. Острый не Q-инфаркт миокарда нижней стенк...</td>\n",
       "      <td>I21.4</td>\n",
       "    </tr>\n",
       "    <tr>\n",
       "      <th>1</th>\n",
       "      <td>Основное заболевание</td>\n",
       "      <td>ИБС. Острый не Q-инфаркт миокарда нижней стенк...</td>\n",
       "      <td>I21.4</td>\n",
       "    </tr>\n",
       "    <tr>\n",
       "      <th>2</th>\n",
       "      <td>Основное заболевание</td>\n",
       "      <td>ИБС. Острый не Q-инфаркт миокарда нижней стенк...</td>\n",
       "      <td>I21.4</td>\n",
       "    </tr>\n",
       "    <tr>\n",
       "      <th>3</th>\n",
       "      <td>Осложнение основного заболевания</td>\n",
       "      <td>ХСНнФВ (34%) 2А стадия, ФК 3.</td>\n",
       "      <td>I50.9</td>\n",
       "    </tr>\n",
       "    <tr>\n",
       "      <th>4</th>\n",
       "      <td>Осложнение основного заболевания</td>\n",
       "      <td>ОСН 1 по Killip.</td>\n",
       "      <td>I50.1</td>\n",
       "    </tr>\n",
       "    <tr>\n",
       "      <th>5</th>\n",
       "      <td>Сопутствующее заболевание</td>\n",
       "      <td>Кисты почек</td>\n",
       "      <td>N28.1</td>\n",
       "    </tr>\n",
       "    <tr>\n",
       "      <th>6</th>\n",
       "      <td>Сопутствующее заболевание</td>\n",
       "      <td>Ожирение 2 степени. (ИМТ 36 кг/м2).</td>\n",
       "      <td>E66.9</td>\n",
       "    </tr>\n",
       "    <tr>\n",
       "      <th>7</th>\n",
       "      <td>Сопутствующее заболевание</td>\n",
       "      <td>Пароксизмальная форма ФП-ТП, нормосистолически...</td>\n",
       "      <td>I48.0</td>\n",
       "    </tr>\n",
       "    <tr>\n",
       "      <th>8</th>\n",
       "      <td>Фоновое заболевание</td>\n",
       "      <td>Гипертоническая болезнь III стадии. Неконтроли...</td>\n",
       "      <td>I11.9</td>\n",
       "    </tr>\n",
       "  </tbody>\n",
       "</table>\n",
       "</div>"
      ],
      "text/plain": [
       "         Вид нозологической единицы  \\\n",
       "0              Основное заболевание   \n",
       "1              Основное заболевание   \n",
       "2              Основное заболевание   \n",
       "3  Осложнение основного заболевания   \n",
       "4  Осложнение основного заболевания   \n",
       "5         Сопутствующее заболевание   \n",
       "6         Сопутствующее заболевание   \n",
       "7         Сопутствующее заболевание   \n",
       "8               Фоновое заболевание   \n",
       "\n",
       "           Врачебное описание нозологической единицы Код по МКБ-10  \n",
       "0  ИБС. Острый не Q-инфаркт миокарда нижней стенк...         I21.4  \n",
       "1  ИБС. Острый не Q-инфаркт миокарда нижней стенк...         I21.4  \n",
       "2  ИБС. Острый не Q-инфаркт миокарда нижней стенк...         I21.4  \n",
       "3                      ХСНнФВ (34%) 2А стадия, ФК 3.         I50.9  \n",
       "4                                   ОСН 1 по Killip.         I50.1  \n",
       "5                                        Кисты почек         N28.1  \n",
       "6                Ожирение 2 степени. (ИМТ 36 кг/м2).         E66.9  \n",
       "7  Пароксизмальная форма ФП-ТП, нормосистолически...         I48.0  \n",
       "8  Гипертоническая болезнь III стадии. Неконтроли...         I11.9  "
      ]
     },
     "execution_count": 22,
     "metadata": {},
     "output_type": "execute_result"
    }
   ],
   "source": [
    "get_final_table2(data)"
   ]
  },
  {
   "cell_type": "code",
   "execution_count": null,
   "id": "cd5863de-0294-4190-a60b-1756608e3399",
   "metadata": {},
   "outputs": [],
   "source": []
  },
  {
   "cell_type": "code",
   "execution_count": null,
   "id": "cf26b21f-9dc3-460e-996f-8f2d76e94c2e",
   "metadata": {},
   "outputs": [],
   "source": []
  },
  {
   "cell_type": "code",
   "execution_count": null,
   "id": "548975ba-a7e7-4796-a5fe-11793f189d9e",
   "metadata": {},
   "outputs": [],
   "source": []
  },
  {
   "cell_type": "markdown",
   "id": "ca0b65b1-93f1-4a4e-9563-8b17500b7f39",
   "metadata": {},
   "source": [
    "Извлекаю признаки из json и сохраняю в json, но теперь более понятного порядка"
   ]
  },
  {
   "cell_type": "code",
   "execution_count": null,
   "id": "8e3b441d-bca7-4585-9615-a3cb1f9d95ae",
   "metadata": {},
   "outputs": [],
   "source": [
    "paths = [('/Users/maximzabelin/My/edc/hse4/data/med_records/DocsNew1_json', \n",
    "         '/Users/maximzabelin/My/edc/hse4/data/med_records/d1_features'), \n",
    "        ('/Users/maximzabelin/My/edc/hse4/data/med_records/DocsNew2_json', \n",
    "         '/Users/maximzabelin/My/edc/hse4/data/med_records/d2_features')]\n",
    "\n",
    "for in_path, out_path in paths:\n",
    "    save_features(in_path, out_path)"
   ]
  },
  {
   "cell_type": "markdown",
   "id": "67337264-1578-44e6-ba77-4a84c3cdf056",
   "metadata": {},
   "source": [
    "Также вот немного по лабораторынм файлам"
   ]
  },
  {
   "cell_type": "code",
   "execution_count": null,
   "id": "ff2f6aaa-79e2-4922-84a1-8557dbdbf294",
   "metadata": {},
   "outputs": [],
   "source": [
    "path_xml_lab = '../data/test_lab_1.xml'\n",
    "path_json_lab = '../data/test_lab_1.json'\n",
    "\n",
    "xml_to_json(path_xml_lab, path_json_lab)\n",
    "\n",
    "with open(path_json_lab, 'r', encoding='utf-8') as file:\n",
    "    data_lab = json.load(file)"
   ]
  },
  {
   "cell_type": "code",
   "execution_count": null,
   "id": "a5ef9d99-d2d7-4add-a616-94bd90655793",
   "metadata": {},
   "outputs": [],
   "source": [
    "get_table_1(data_lab)"
   ]
  },
  {
   "cell_type": "code",
   "execution_count": null,
   "id": "303a3c74-da0d-4739-8699-4e02d331909d",
   "metadata": {},
   "outputs": [],
   "source": [
    "path_xml_lab = '../data/file3_4 copy.xml'\n",
    "path_json_lab = '../data/file3_4 copy.json'\n",
    "\n",
    "xml_to_json(path_xml_lab, path_json_lab)\n",
    "\n",
    "with open(path_json_lab, 'r', encoding='utf-8') as file:\n",
    "    data_lab = json.load(file)"
   ]
  },
  {
   "cell_type": "code",
   "execution_count": null,
   "id": "97b60912-8430-45b5-868c-ce8bb9bfb63b",
   "metadata": {},
   "outputs": [],
   "source": [
    "get_table_1(data_lab)"
   ]
  },
  {
   "cell_type": "code",
   "execution_count": null,
   "id": "3c484708-6409-45ed-8890-ee3016bd6987",
   "metadata": {},
   "outputs": [],
   "source": [
    "path_xml_lab = '../data/file3_1 copy.xml'\n",
    "path_json_lab = '../data/file3_1 copy.json'\n",
    "\n",
    "xml_to_json(path_xml_lab, path_json_lab)\n",
    "\n",
    "with open(path_json_lab, 'r', encoding='utf-8') as file:\n",
    "    data_lab = json.load(file)"
   ]
  },
  {
   "cell_type": "code",
   "execution_count": null,
   "id": "8fd15268-825e-42ac-9f6d-4e0803e5bb1b",
   "metadata": {},
   "outputs": [],
   "source": [
    "get_table_1(data_lab)"
   ]
  },
  {
   "cell_type": "code",
   "execution_count": null,
   "id": "dccb1369-773a-41fc-9bf6-fd309269171a",
   "metadata": {},
   "outputs": [],
   "source": []
  }
 ],
 "metadata": {
  "kernelspec": {
   "display_name": "mlmed11",
   "language": "python",
   "name": "your_project_name"
  },
  "language_info": {
   "codemirror_mode": {
    "name": "ipython",
    "version": 3
   },
   "file_extension": ".py",
   "mimetype": "text/x-python",
   "name": "python",
   "nbconvert_exporter": "python",
   "pygments_lexer": "ipython3",
   "version": "3.12.2"
  }
 },
 "nbformat": 4,
 "nbformat_minor": 5
}
