{
 "cells": [
  {
   "cell_type": "code",
   "execution_count": 1,
   "id": "f7d7cb6c-7fb1-4d43-a16a-9b619e9f9c4e",
   "metadata": {},
   "outputs": [],
   "source": [
    "import pandas as pd\n",
    "import xml.etree.ElementTree as ET\n",
    "from io import StringIO\n",
    "import json"
   ]
  },
  {
   "cell_type": "code",
   "execution_count": 2,
   "id": "91c092c0-d7d7-4604-832c-656c72f2858b",
   "metadata": {},
   "outputs": [],
   "source": [
    "from hse3_files.converter import xml_to_json\n",
    "from hse3_files.parser_fucn import find_section_by_optimized_path\n",
    "from hse3_files.parser_sex_age import get_sex, get_age\n",
    "from hse3_files.parser_gospital import get_gosp_info\n",
    "from hse3_files.parser_amnez_disease import get_amnez_d\n",
    "from hse3_files.parser_condition import get_condition\n",
    "from hse3_files.parser_diagn import get_diagnosis\n",
    "from hse3_files.parses_amnez_life import get_amnez_life\n",
    "from hse3_files.parser_wards import get_ward_table"
   ]
  },
  {
   "cell_type": "code",
   "execution_count": 3,
   "id": "46d245db-daa9-4724-98b8-a6288188d817",
   "metadata": {},
   "outputs": [],
   "source": [
    "%load_ext autoreload\n",
    "%autoreload 2\n"
   ]
  },
  {
   "cell_type": "code",
   "execution_count": 4,
   "id": "def7cc9e-57f3-4e97-b889-77c3f0cb1130",
   "metadata": {},
   "outputs": [],
   "source": [
    "def xml_to_json(xml_file_path, json_file_path):\n",
    "    # Read XML data from file\n",
    "    with open(xml_file_path, 'r', encoding='utf-8') as file:\n",
    "        xml_data = file.read()\n",
    "\n",
    "    # Parse the XML data\n",
    "    root = ET.fromstring(xml_data)\n",
    "    \n",
    "    # Function to convert the parsed XML element into a Python dictionary\n",
    "    def elem_to_dict(elem):\n",
    "        d = {}\n",
    "        for child in elem:\n",
    "            if child.tag not in d:\n",
    "                d[child.tag] = elem_to_dict(child)\n",
    "            else:\n",
    "                if not isinstance(d[child.tag], list):\n",
    "                    d[child.tag] = [d[child.tag]]\n",
    "                d[child.tag].append(elem_to_dict(child))\n",
    "        d.update({k: v for k, v in elem.attrib.items()})\n",
    "        if elem.text and elem.text.strip():\n",
    "            d['text'] = elem.text.strip()\n",
    "        else:\n",
    "            d.pop('text', None)  # Remove empty text fields\n",
    "        return d\n",
    "    \n",
    "    # Convert the root element to a dictionary and save to JSON file\n",
    "    with open(json_file_path, 'w', encoding='utf-8') as json_file:\n",
    "        json_data = elem_to_dict(root)\n",
    "        json.dump(json_data, json_file, ensure_ascii=False, indent=4)"
   ]
  },
  {
   "cell_type": "code",
   "execution_count": 41,
   "id": "bfb5b768-a0cb-4a66-b3bc-e62f11d34cea",
   "metadata": {},
   "outputs": [],
   "source": [
    "path_xml = '../data/test_1.xml'\n",
    "path_json = '../data/test_1.json'"
   ]
  },
  {
   "cell_type": "code",
   "execution_count": 42,
   "id": "d2acaf7f-3bed-4da1-9f24-a62adfb85943",
   "metadata": {},
   "outputs": [],
   "source": [
    "xml_to_json(path_xml, path_json)"
   ]
  },
  {
   "cell_type": "code",
   "execution_count": 43,
   "id": "388f981b-e847-41f0-b9f4-e4e9dcbb63b7",
   "metadata": {},
   "outputs": [],
   "source": [
    "with open(path_json, 'r', encoding='utf-8') as file:\n",
    "    data = json.load(file)"
   ]
  },
  {
   "cell_type": "code",
   "execution_count": 44,
   "id": "f70e6ed1-1b5a-4bea-b1a1-dc10fdfe06ef",
   "metadata": {},
   "outputs": [
    {
     "data": {
      "text/plain": [
       "'Мужской'"
      ]
     },
     "execution_count": 44,
     "metadata": {},
     "output_type": "execute_result"
    }
   ],
   "source": [
    "get_sex(data)"
   ]
  },
  {
   "cell_type": "code",
   "execution_count": 45,
   "id": "771033a5-051a-4ff0-98c2-7781ab57952c",
   "metadata": {},
   "outputs": [
    {
     "data": {
      "text/plain": [
       "'19601212'"
      ]
     },
     "execution_count": 45,
     "metadata": {},
     "output_type": "execute_result"
    }
   ],
   "source": [
    "get_age(data)"
   ]
  },
  {
   "cell_type": "code",
   "execution_count": 46,
   "id": "52c3f85e-c57c-46f5-b800-9ae67e535437",
   "metadata": {},
   "outputs": [],
   "source": [
    "a, b, c = get_gosp_info(data)"
   ]
  },
  {
   "cell_type": "code",
   "execution_count": 47,
   "id": "26bf3808-10c5-46bd-b3b7-046b0f506313",
   "metadata": {},
   "outputs": [
    {
     "data": {
      "text/html": [
       "<div>\n",
       "<style scoped>\n",
       "    .dataframe tbody tr th:only-of-type {\n",
       "        vertical-align: middle;\n",
       "    }\n",
       "\n",
       "    .dataframe tbody tr th {\n",
       "        vertical-align: top;\n",
       "    }\n",
       "\n",
       "    .dataframe thead th {\n",
       "        text-align: right;\n",
       "    }\n",
       "</style>\n",
       "<table border=\"1\" class=\"dataframe\">\n",
       "  <thead>\n",
       "    <tr style=\"text-align: right;\">\n",
       "      <th></th>\n",
       "      <th>Вид нозологической единицы</th>\n",
       "      <th>Врачебное описание нозологической единицы</th>\n",
       "      <th>Код по МКБ-10</th>\n",
       "    </tr>\n",
       "  </thead>\n",
       "  <tbody>\n",
       "    <tr>\n",
       "      <th>0</th>\n",
       "      <td>Основное заболевание</td>\n",
       "      <td>ИБС. Впервые возникшая стенокардия.</td>\n",
       "      <td>I20.0</td>\n",
       "    </tr>\n",
       "    <tr>\n",
       "      <th>1</th>\n",
       "      <td>Основное заболевание</td>\n",
       "      <td>ИБС. Впервые возникшая стенокардия.</td>\n",
       "      <td>I20.0</td>\n",
       "    </tr>\n",
       "    <tr>\n",
       "      <th>2</th>\n",
       "      <td>Осложнение основного заболевания</td>\n",
       "      <td>ОСН 1 по Killip.</td>\n",
       "      <td>I50.1</td>\n",
       "    </tr>\n",
       "    <tr>\n",
       "      <th>3</th>\n",
       "      <td>Сопутствующее заболевание</td>\n",
       "      <td>Дегенеративный порок. Аортальный стеноз 2 степ...</td>\n",
       "      <td>I35.2</td>\n",
       "    </tr>\n",
       "    <tr>\n",
       "      <th>4</th>\n",
       "      <td>Сопутствующее заболевание</td>\n",
       "      <td>Перенесенное ОНМК по ишемическому типу в ВБС в...</td>\n",
       "      <td>I69.4</td>\n",
       "    </tr>\n",
       "    <tr>\n",
       "      <th>5</th>\n",
       "      <td>Сопутствующее заболевание</td>\n",
       "      <td>Сахарный диабет 2 типа. Целевой уровень гликог...</td>\n",
       "      <td>E11.8</td>\n",
       "    </tr>\n",
       "    <tr>\n",
       "      <th>6</th>\n",
       "      <td>Сопутствующее заболевание</td>\n",
       "      <td>Ожирение 1 степени. (ИМТ 34 кг/м2).</td>\n",
       "      <td>E66.9</td>\n",
       "    </tr>\n",
       "    <tr>\n",
       "      <th>7</th>\n",
       "      <td>Фоновое заболевание</td>\n",
       "      <td>Гипертоническая болезнь III стадии. Контролиру...</td>\n",
       "      <td>I11.9</td>\n",
       "    </tr>\n",
       "  </tbody>\n",
       "</table>\n",
       "</div>"
      ],
      "text/plain": [
       "         Вид нозологической единицы  \\\n",
       "0              Основное заболевание   \n",
       "1              Основное заболевание   \n",
       "2  Осложнение основного заболевания   \n",
       "3         Сопутствующее заболевание   \n",
       "4         Сопутствующее заболевание   \n",
       "5         Сопутствующее заболевание   \n",
       "6         Сопутствующее заболевание   \n",
       "7               Фоновое заболевание   \n",
       "\n",
       "           Врачебное описание нозологической единицы Код по МКБ-10  \n",
       "0                ИБС. Впервые возникшая стенокардия.         I20.0  \n",
       "1                ИБС. Впервые возникшая стенокардия.         I20.0  \n",
       "2                                   ОСН 1 по Killip.         I50.1  \n",
       "3  Дегенеративный порок. Аортальный стеноз 2 степ...         I35.2  \n",
       "4  Перенесенное ОНМК по ишемическому типу в ВБС в...         I69.4  \n",
       "5  Сахарный диабет 2 типа. Целевой уровень гликог...         E11.8  \n",
       "6                Ожирение 1 степени. (ИМТ 34 кг/м2).         E66.9  \n",
       "7  Гипертоническая болезнь III стадии. Контролиру...         I11.9  "
      ]
     },
     "execution_count": 47,
     "metadata": {},
     "output_type": "execute_result"
    }
   ],
   "source": [
    "a"
   ]
  },
  {
   "cell_type": "code",
   "execution_count": 48,
   "id": "d1ce16e6-4bb9-447e-aa41-2163aedce84d",
   "metadata": {},
   "outputs": [
    {
     "data": {
      "text/plain": [
       "'Первичный'"
      ]
     },
     "execution_count": 48,
     "metadata": {},
     "output_type": "execute_result"
    }
   ],
   "source": [
    "b"
   ]
  },
  {
   "cell_type": "code",
   "execution_count": 49,
   "id": "7674238f-1ab3-4c7c-9932-6e0105742c60",
   "metadata": {},
   "outputs": [
    {
     "data": {
      "text/plain": [
       "'Доставлен бригадой скорой помощи'"
      ]
     },
     "execution_count": 49,
     "metadata": {},
     "output_type": "execute_result"
    }
   ],
   "source": [
    "c"
   ]
  },
  {
   "cell_type": "code",
   "execution_count": 50,
   "id": "a1dd9b4a-7135-4298-9644-99ef7403e453",
   "metadata": {},
   "outputs": [
    {
     "data": {
      "text/plain": [
       "'Больным себя считает с 20.00 30.12.22г, когда в покое и при минимальной ФН начал отмечать давящие боли за грудиной, длительностью до 15-20 минут, с иррадиацией в обе руки. Принял 1 дозу НТГ, с положительным эффектом. В связи с рецидивированием болей, вызвал бСМП, доставлен в ПО ОКД. \\nПринимает конкор, физиотенз, фелодип, аторвастатин, варфарин, юперио, аторвастатин, форсигу.  \\nПовышение АД много лет. Максимальное АД 240/мм.рт.ст. Медикаментозно достигнутое АД 130-140/мм.рт.ст. (регулярно принимает гипотензивные препараты)\\nСахарный диабет 2 типа (постоянно принимает галвус, метформин )\\nПеренесенное ОНМК по ишемическому типу в ВБС в 2015г.\\nОИМ, БА, ЯБ ЖКТ отрицает.\\nПроведен тромболизис догоспитально нет \\nЭпидемиологический анамнез:\\nСо слов пациента, с больными корью не контактировал(а)., В течение последнего месяца за территорию РФ не выезжал (а). Со слов пациента, с больным &quot;оспой обезьян&quot; не контактировал (а). \\nБолел ранее COVID-19  да   2021г \\nВакцинация от COVID-19   2021г \\nРевакцинация от COVID-19 да   2022г \\nПедикулез, чесотка не выявлены.\\nПеренесенные заболевания: ГБ;, СД;, ОНМК; б-нь Боткина. Дегенеративный порок : Аортальный стеноз 2 степени. ( АК градиент 47мм.рт.ст) без обструкции выходного тракта; ХСН.\\nТравмы: отрицает, операции: флебэктомия справа в 2010г \\nАллергоанамнез: не отягощён \\nГемотрансфузионный анамнез: переливание крови нет \\nТуберкулез, вен. заболевания, вирусный гепатит отрицает.\\nД-учет: да Поликлиника: ГП№4 Последнее посещение терапевта: 2022г'"
      ]
     },
     "execution_count": 50,
     "metadata": {},
     "output_type": "execute_result"
    }
   ],
   "source": [
    "get_amnez_d(data)"
   ]
  },
  {
   "cell_type": "code",
   "execution_count": 51,
   "id": "43c7d28c-f94a-46a7-9a35-04a1b1810ae3",
   "metadata": {},
   "outputs": [
    {
     "data": {
      "text/html": [
       "<div>\n",
       "<style scoped>\n",
       "    .dataframe tbody tr th:only-of-type {\n",
       "        vertical-align: middle;\n",
       "    }\n",
       "\n",
       "    .dataframe tbody tr th {\n",
       "        vertical-align: top;\n",
       "    }\n",
       "\n",
       "    .dataframe thead th {\n",
       "        text-align: right;\n",
       "    }\n",
       "</style>\n",
       "<table border=\"1\" class=\"dataframe\">\n",
       "  <thead>\n",
       "    <tr style=\"text-align: right;\">\n",
       "      <th></th>\n",
       "      <th>Вид нозологической единицы</th>\n",
       "      <th>Врачебное описание нозологической единицы</th>\n",
       "      <th>Код по МКБ-10</th>\n",
       "    </tr>\n",
       "  </thead>\n",
       "  <tbody>\n",
       "    <tr>\n",
       "      <th>0</th>\n",
       "      <td>Основное заболевание</td>\n",
       "      <td>ИБС. Впервые возникшая стенокардия.</td>\n",
       "      <td>I20.0</td>\n",
       "    </tr>\n",
       "    <tr>\n",
       "      <th>1</th>\n",
       "      <td>Основное заболевание</td>\n",
       "      <td>ИБС. Впервые возникшая стенокардия.</td>\n",
       "      <td>I20.0</td>\n",
       "    </tr>\n",
       "    <tr>\n",
       "      <th>2</th>\n",
       "      <td>Осложнение основного заболевания</td>\n",
       "      <td>ОСН 1 по Killip.</td>\n",
       "      <td>I50.1</td>\n",
       "    </tr>\n",
       "    <tr>\n",
       "      <th>3</th>\n",
       "      <td>Сопутствующее заболевание</td>\n",
       "      <td>Дегенеративный порок. Аортальный стеноз 2 степ...</td>\n",
       "      <td>I35.2</td>\n",
       "    </tr>\n",
       "    <tr>\n",
       "      <th>4</th>\n",
       "      <td>Сопутствующее заболевание</td>\n",
       "      <td>Перенесенное ОНМК по ишемическому типу в ВБС в...</td>\n",
       "      <td>I69.4</td>\n",
       "    </tr>\n",
       "    <tr>\n",
       "      <th>5</th>\n",
       "      <td>Сопутствующее заболевание</td>\n",
       "      <td>Сахарный диабет 2 типа. Целевой уровень гликог...</td>\n",
       "      <td>E11.8</td>\n",
       "    </tr>\n",
       "    <tr>\n",
       "      <th>6</th>\n",
       "      <td>Сопутствующее заболевание</td>\n",
       "      <td>Ожирение 1 степени. (ИМТ 34 кг/м2).</td>\n",
       "      <td>E66.9</td>\n",
       "    </tr>\n",
       "    <tr>\n",
       "      <th>7</th>\n",
       "      <td>Фоновое заболевание</td>\n",
       "      <td>Гипертоническая болезнь III стадии. Контролиру...</td>\n",
       "      <td>I11.9</td>\n",
       "    </tr>\n",
       "  </tbody>\n",
       "</table>\n",
       "</div>"
      ],
      "text/plain": [
       "         Вид нозологической единицы  \\\n",
       "0              Основное заболевание   \n",
       "1              Основное заболевание   \n",
       "2  Осложнение основного заболевания   \n",
       "3         Сопутствующее заболевание   \n",
       "4         Сопутствующее заболевание   \n",
       "5         Сопутствующее заболевание   \n",
       "6         Сопутствующее заболевание   \n",
       "7               Фоновое заболевание   \n",
       "\n",
       "           Врачебное описание нозологической единицы Код по МКБ-10  \n",
       "0                ИБС. Впервые возникшая стенокардия.         I20.0  \n",
       "1                ИБС. Впервые возникшая стенокардия.         I20.0  \n",
       "2                                   ОСН 1 по Killip.         I50.1  \n",
       "3  Дегенеративный порок. Аортальный стеноз 2 степ...         I35.2  \n",
       "4  Перенесенное ОНМК по ишемическому типу в ВБС в...         I69.4  \n",
       "5  Сахарный диабет 2 типа. Целевой уровень гликог...         E11.8  \n",
       "6                Ожирение 1 степени. (ИМТ 34 кг/м2).         E66.9  \n",
       "7  Гипертоническая болезнь III стадии. Контролиру...         I11.9  "
      ]
     },
     "execution_count": 51,
     "metadata": {},
     "output_type": "execute_result"
    }
   ],
   "source": [
    "get_diagnosis(data)"
   ]
  },
  {
   "cell_type": "markdown",
   "id": "8e10dff5-8d55-4e16-af70-c5c688f2aef0",
   "metadata": {},
   "source": [
    "ячейка снизу отработала правильно - в самом файле такое значение"
   ]
  },
  {
   "cell_type": "code",
   "execution_count": 52,
   "id": "c81e4196-38f4-4251-9762-f435f1b9f10a",
   "metadata": {},
   "outputs": [
    {
     "data": {
      "text/plain": [
       "'Б'"
      ]
     },
     "execution_count": 52,
     "metadata": {},
     "output_type": "execute_result"
    }
   ],
   "source": [
    "get_amnez_life(data)"
   ]
  },
  {
   "cell_type": "code",
   "execution_count": 53,
   "id": "2e3d5341-70f6-4d4b-89ba-14400491429a",
   "metadata": {},
   "outputs": [
    {
     "data": {
      "text/plain": [
       "['Состояние: Средней тяжести',\n",
       " 'Жалобы: на давящие боли за грудиной в покое и при минимальной ФН, длительностью до 15-20 минут, с иррадиацией в обе руки. На момент осмотра боли отрицает.',\n",
       " 'Объективный статус: \\nСтепень тяжести Средней тяжести Сознание: ясное \\nТелосложение гиперстеник Питание: избыточное \\n РОСТ  175  ВЕС  105  ИМТ 34\\nКожные покровы: физиологической окраски нормальной влажности \\nТ-ра тела 36,5С, зев чистый, не гиперемирован.\\nЛимфоузлы: не увеличены \\nОпорно-двигательный аппарат: без патологии; Нижние конечности: физиологической окраски  не гиперемированы на ощупь теплые пульсация отчетливая при пальпации безболезненны \\nДыхание: везикулярное Хрипы: не выслушиваются ЧДД 17 в мин spO2 -98%\\nПеркуссия легких: при сравнительной перкуссии легкий над всей поверхностью легочных полей определяется ясный легочный звук.\\nОбласть сердца и крупных сосудов не изменена \\nДругие пульсации в области сердца: нет.\\nВерхушечный толчок  не уширен в V межреберье кнутри от СКЛ на 2 см. S-до 2 кв.см.\\nГраницы относительной сердечности тупости: не изменены \\nТоны сердца: приглушены Ритм: правильный Шумы - не выслушиваются \\nАД (прав)=АД (лев)  140/90 мм рт. ст. Пульс=ЧСС  76  уд/мин.\\nЯзык влажный чистый Живот: мягкий  безболезненный \\nПечень: не увеличена Симптом поколачивания отрицательный \\nДиурез адекватный  Отеки: отсутствуют Стул регулярный (со слов)\\nНаличие изменений на ЭКГ без подъема сегмента ST \\nКардиогенный шок нет \\nОценка по шкале GRACE &lt; 140 средний риск 126 б\\nОценка по шкале CRUSADE очень низкий \\nШкала CAPRINI (оценка риска ВТЭО) умереный риск \\nШкала IMPROVE (оценка риска кровотечений) низкий риск \\nСпособы профилактики ВТЭО: 1. Ранняя активизация и адекватная гидратация,, 2. механические способы профилактики;, 3. антикоагулянтная профилактика (клексан 0,4мг п/к 1р/д); \\nЛечение (СМП): ацетилсалициловая кислота 250 мг, клопидогрель 300 мг, гепарин 5000 Ед, Нитроминт 0,4 мг (№2) п/язык, морфин 1% 1,0 \\nРезультаты обследования:\\nЭКГ в ПО ОКД: синусовый ритм с ЧСС 83 в мин. ЭОС - отклонена влево. Нарушение процессов реполяризации по верхушечно-боковой стенке ЛЖ. ГЛЖ. \\n 30.12.2022 7:25:00   Общий (клинический) анализ крови развернутый: Лейкоциты - 11.62 10^9/л;Нейтрофилы абс. - 7.47 ;Нейтрофилы - 64.3 %;Лимфоциты абс. - 2.42 ;Лимфоциты - 20.8 %;Моноциты абс. - 1.45 ;Моноциты - 12.5 %;Эозинофилы абс. - 0.24 ;Эозинофилы - 2.1 %;Базофилы абс. - 0.04 ;Базофилы - 0.3 %;Эритроциты - 5.05 10^12/л;Гемоглобин - 139.0 г/л;Гематокрит - 41.1 %;MCV - 81.4 ;MCH - 27.5 ;MCHC - 338.0 ;RDW - 14.8 ;Тромбоциты - 263.0 10^9/л;MPV - 10.3 ;PCT - 0.27 ;PDW - 11.4 ;\\n 30.12.2022 7:25:00   Исследование уровня тропонина T в крови: Исследование уровня тропонина T в крови - 23.49 pg/ml;\\nПлан лечения: а/агреганты, а/коагулянты, б/блокаторы, гастропротекторы, иАПФ, нитраты, статины, симптоматическое лечение \\n Пациент с планом обследования ознакомлен, согласен \\nПациент подготовлен и транспортирован в ПИН КО№1 для до обследования, динамического наблюдения и выбора тактики лечения в 07:40ч. \\n Учитывая наличие критериев высокого риска неблагоприятного исхода, проведение КАГ в течение 2-24 часа после госпитализации']"
      ]
     },
     "execution_count": 53,
     "metadata": {},
     "output_type": "execute_result"
    }
   ],
   "source": [
    "get_condition(data)"
   ]
  },
  {
   "cell_type": "code",
   "execution_count": null,
   "id": "5d567b56-2f63-4cc7-84c0-05e4cc82d4b4",
   "metadata": {},
   "outputs": [],
   "source": []
  }
 ],
 "metadata": {
  "kernelspec": {
   "display_name": "mlmed11",
   "language": "python",
   "name": "your_project_name"
  },
  "language_info": {
   "codemirror_mode": {
    "name": "ipython",
    "version": 3
   },
   "file_extension": ".py",
   "mimetype": "text/x-python",
   "name": "python",
   "nbconvert_exporter": "python",
   "pygments_lexer": "ipython3",
   "version": "3.12.2"
  }
 },
 "nbformat": 4,
 "nbformat_minor": 5
}
