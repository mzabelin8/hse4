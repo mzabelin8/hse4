{
 "cells": [
  {
   "cell_type": "code",
   "execution_count": null,
   "id": "26fe8110-f29c-4536-89c0-5d8a0b2b1719",
   "metadata": {},
   "outputs": [],
   "source": []
  }
 ],
 "metadata": {
  "kernelspec": {
   "display_name": "mlmed11",
   "language": "python",
   "name": "your_project_name"
  },
  "language_info": {
   "codemirror_mode": {
    "name": "ipython",
    "version": 3
   },
   "file_extension": ".py",
   "mimetype": "text/x-python",
   "name": "python",
   "nbconvert_exporter": "python",
   "pygments_lexer": "ipython3",
   "version": "3.12.2"
  }
 },
 "nbformat": 4,
 "nbformat_minor": 5
}
